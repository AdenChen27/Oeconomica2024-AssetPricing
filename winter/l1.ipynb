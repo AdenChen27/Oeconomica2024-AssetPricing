{
 "cells": [
  {
   "cell_type": "markdown",
   "id": "e8c11339",
   "metadata": {},
   "source": [
    "\n",
    "# Variables and Basic Data Types\n",
    "\n",
    "Note: These notebooks are designed to quickly introduce to *programming*, not *computer science*.\n",
    "\n",
    "- You do not need to know exactly how everything works, but make sure you have a rough idea of what each line of code means.\n",
    "- Your final goal is to know how to code (with aid of the Internet).\n",
    "- You may skip over all explanation, but do run all the code.\n",
    "- The explanations are terse. If you have question, Google. If you don't, find some question to Google.\n",
    "\n",
    "Knowing how to Google and ChatGPT is vary useful, but to be a Good Googler, you'll need to know the correct vocabulary, which is displayed in **bold** in this notebook.\n",
    "\n",
    "After completing this notebook, you should:\n",
    "- have a rough sense of what a **variable** is\n",
    "- understand basic **data types** (numbers and strings) and **type conversion**\n",
    "- know how to perform basic numerical operations (addition, multiplication, division, etc) and string concatenation\n",
    "- know the `print` function\n"
   ]
  },
  {
   "cell_type": "markdown",
   "id": "5662e439",
   "metadata": {},
   "source": [
    "\n",
    "The `print` function displays values of variables or constants onto the screen.\n",
    "This is useful for debugging and displaying outputs for the user.\n"
   ]
  },
  {
   "cell_type": "code",
   "execution_count": null,
   "id": "f7f46aed",
   "metadata": {},
   "outputs": [],
   "source": [
    "print(\"Hello world\")"
   ]
  },
  {
   "cell_type": "markdown",
   "id": "0f2c1440",
   "metadata": {},
   "source": [
    "\n",
    "# Variables and Basic Types\n",
    "In Python, **variables** are used to store values. You can think of a variable as a container that holds data.\n",
    "A variable is defined by giving it a name and assigning a value using the assignment operator `=`.\n",
    "\n",
    "Basic **data types** include numbers (`int` for integers and `float` for floating-point numbers), and strings (`str` for string).\n",
    "\n",
    "## Numbers (`int` and `float`)\n"
   ]
  },
  {
   "cell_type": "code",
   "execution_count": null,
   "id": "636a04b0",
   "metadata": {},
   "outputs": [],
   "source": [
    "# Integer\n",
    "myint = 7\n",
    "print(myint)\n",
    "\n",
    "# Float (decimal number)\n",
    "myfloat = 7.0\n",
    "print(myfloat)"
   ]
  },
  {
   "cell_type": "markdown",
   "id": "90297c8c",
   "metadata": {},
   "source": [
    "\n",
    "You can perform operations on numbers such as addition, subtraction, multiplication, and division.\n"
   ]
  },
  {
   "cell_type": "code",
   "execution_count": null,
   "id": "76e19c05",
   "metadata": {},
   "outputs": [],
   "source": [
    "# Basic operations\n",
    "one = 1\n",
    "two = 2\n",
    "three = one + two\n",
    "print(three)\n",
    "\n",
    "# More complex operations\n",
    "number = 1 + 2 * 3 / 4.0\n",
    "print(number)\n",
    "\n",
    "# Modulo operation - remainder of a division\n",
    "remainder = 11 % 3\n",
    "print(remainder)\n",
    "\n",
    "# Exponentiation\n",
    "squared = 7 ** 2\n",
    "cubed = 2 ** 3\n",
    "print(squared)\n",
    "print(cubed)"
   ]
  },
  {
   "cell_type": "markdown",
   "id": "2c234bb4",
   "metadata": {},
   "source": [
    "\n",
    "## Strings (`str`)\n",
    "\n",
    "**Strings** represent sequences of characters, like words or sentences.\n",
    "Strings can be enclosed in single quotes `'` or double quotes `\"`.\n",
    "\n"
   ]
  },
  {
   "cell_type": "code",
   "execution_count": null,
   "id": "d88f2eee",
   "metadata": {},
   "outputs": [],
   "source": [
    "mystring = 'hello'\n",
    "print(mystring)\n",
    "\n",
    "mystring = \"hello\"\n",
    "print(mystring)\n",
    "\n",
    "# Handling apostrophes in strings\n",
    "mystring = \"Don't worry about apostrophes. If you want an apostrophe (single quotation mark) in your string, just use double quotation marks to enclose the string.\"\n",
    "print(mystring)"
   ]
  },
  {
   "cell_type": "markdown",
   "id": "c8de1abd",
   "metadata": {},
   "source": [
    "\n",
    "You can concatenate (combine) strings using the `+` operator.\n"
   ]
  },
  {
   "cell_type": "code",
   "execution_count": null,
   "id": "bd943815",
   "metadata": {},
   "outputs": [],
   "source": [
    "hello = \"hello\"\n",
    "world = \"world\"\n",
    "helloworld = hello + \" \" + world\n",
    "print(helloworld)"
   ]
  },
  {
   "cell_type": "markdown",
   "id": "91616b6f",
   "metadata": {},
   "source": [
    "\n",
    "## Converting types\n",
    "\n",
    "Sometimes, you might need to convert a variable from one **data type** to another. \n",
    "In Python, you can do this using type conversion functions, such as `int()`, `float()`, and `str()`.\n",
    "\n"
   ]
  },
  {
   "cell_type": "code",
   "execution_count": null,
   "id": "a1c6aa63",
   "metadata": {},
   "outputs": [],
   "source": [
    "# Trying to add an integer and a string (this will cause an error)\n",
    "one = 1\n",
    "two = 2\n",
    "hello = \"hello\"\n",
    "\n",
    "# Uncomment the line below to see the error\n",
    "# print(one + two + hello)  # This will give an error because you cannot add a string and integers directly"
   ]
  },
  {
   "cell_type": "markdown",
   "id": "4ff03c3d",
   "metadata": {},
   "source": [
    "\n",
    "You can convert between types using functions like `int()`, `float()`, and `str()`.\n"
   ]
  },
  {
   "cell_type": "code",
   "execution_count": null,
   "id": "9ee10357",
   "metadata": {},
   "outputs": [],
   "source": [
    "number = 15\n",
    "print(str(number))\n",
    "print(float(number))\n",
    "\n",
    "string = \"10\"\n",
    "print(int(string))\n",
    "print(float(string))\n",
    "\n",
    "print(float(\"10.123\"))"
   ]
  },
  {
   "cell_type": "markdown",
   "id": "6e84c51b",
   "metadata": {},
   "source": [
    "\n",
    "Of course, you can only convert a string into a number if the string can be interpreted as a valid number.\n",
    "For example, the following will not work because \"abc\" cannot be converted into a float or integer.\n",
    "\n",
    "Try to run these lines to see the error!\n"
   ]
  },
  {
   "cell_type": "code",
   "execution_count": null,
   "id": "8c3ec9a7",
   "metadata": {},
   "outputs": [],
   "source": [
    "print(float(\"abc\"))\n",
    "print(int(\"10.282\"))"
   ]
  },
  {
   "cell_type": "markdown",
   "id": "a483c939",
   "metadata": {},
   "source": [
    "\n",
    "A note on types: You can check the type of a variable using the `type()` function.\n",
    "This is very useful for debugging and understanding what kind of data you're working with.\n"
   ]
  },
  {
   "cell_type": "code",
   "execution_count": null,
   "id": "b021ed8a",
   "metadata": {},
   "outputs": [],
   "source": [
    "a = 1\n",
    "b = 1.0\n",
    "c = \"1\"\n",
    "print(type(a))\n",
    "print(type(b))\n",
    "print(type(c))"
   ]
  },
  {
   "cell_type": "markdown",
   "id": "aac78754",
   "metadata": {},
   "source": [
    "\n",
    "# Exercise:\n",
    "\n",
    "Write code that performs the following:\n",
    "- create a new variable `x`, with value 2\n",
    "- set `y` to 2^(x^(x^x)), where ^ stands for exponentiation. Note: 2^(x^(x^x)) is not a valid Python expression (at least it does not mean what you think it means), so turn it into one.\n",
    "- convert `y` into a string and print it\n"
   ]
  },
  {
   "cell_type": "code",
   "execution_count": null,
   "id": "bf9088e9",
   "metadata": {},
   "outputs": [],
   "source": []
  }
 ],
 "metadata": {},
 "nbformat": 4,
 "nbformat_minor": 5
}
