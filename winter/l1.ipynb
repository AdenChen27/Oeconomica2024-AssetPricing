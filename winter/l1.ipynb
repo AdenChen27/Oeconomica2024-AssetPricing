{
 "cells": [
  {
   "cell_type": "markdown",
   "id": "af278c86",
   "metadata": {},
   "source": [
    "# Variables and Basic Data Types\n",
    "\n",
    "Note: These notebooks are designed to quickly introduce to *programming*, not *computer science*.\n",
    "\n",
    "- You do not need to know exactly how everything works, but make sure you have a rough idea of what each line of code means.\n",
    "- Your final goal is to know how to code (with aid of the Internet).\n",
    "- You may skip over all explanation, but do run all the code.\n",
    "- The explanations are terse. If you have question, Google. If you don't, find some question to Google.\n",
    "\n",
    "Knowing how to Google and ChatGPT is vary useful, but to be a Good Googler, you'll need to know the correct vocabulary, which is displayed in **bold** in this notebook.\n",
    "\n",
    "After completing this notebook, you should:\n",
    "- have a rough sense of what a **variable** is\n",
    "- understand basic **data types** (numbers and strings) and **type conversion**\n",
    "- know how to perform basic numerical operations (addition, multiplication, division, etc) and string concatenation\n",
    "- know the `print` function"
   ]
  },
  {
   "cell_type": "markdown",
   "id": "7a4a7c7b",
   "metadata": {},
   "source": [
    "The `print` function displays values of variables or constants onto the screen.\n",
    "This is useful for debugging and displaying outputs for the user."
   ]
  },
  {
   "cell_type": "code",
   "execution_count": null,
   "id": "33ac3585",
   "metadata": {},
   "outputs": [],
   "source": [
    "print(\"Hello world\")"
   ]
  },
  {
   "cell_type": "markdown",
   "id": "4ebb3cea",
   "metadata": {},
   "source": [
    "# Variables and Basic Types\n",
    "In Python, **variables** are used to store values. You can think of a variable as a container that holds data.\n",
    "A variable is defined by giving it a name and assigning a value using the assignment operator `=`.\n",
    "\n",
    "Basic **data types** include numbers (`int` for integers and `float` for floating-point numbers), and strings (`str` for string).\n",
    "\n",
    "## Numbers (`int` and `float`)"
   ]
  },
  {
   "cell_type": "code",
   "execution_count": null,
   "id": "344732f6",
   "metadata": {},
   "outputs": [],
   "source": [
    "# Integer\n",
    "myint = 7\n",
    "print(myint)\n",
    "\n",
    "# Float (decimal number)\n",
    "myfloat = 7.0\n",
    "print(myfloat)"
   ]
  },
  {
   "cell_type": "markdown",
   "id": "7f12f1e4",
   "metadata": {},
   "source": [
    "You can perform operations on numbers such as addition, subtraction, multiplication, and division."
   ]
  },
  {
   "cell_type": "code",
   "execution_count": null,
   "id": "9e8e039a",
   "metadata": {},
   "outputs": [],
   "source": [
    "# Basic operations\n",
    "one = 1\n",
    "two = 2\n",
    "three = one + two\n",
    "print(three)\n",
    "\n",
    "# More complex operations\n",
    "number = 1 + 2 * 3 / 4.0\n",
    "print(number)\n",
    "\n",
    "# Modulo operation - remainder of a division\n",
    "remainder = 11 % 3\n",
    "print(remainder)\n",
    "\n",
    "# Exponentiation\n",
    "squared = 7 ** 2\n",
    "cubed = 2 ** 3\n",
    "print(squared)\n",
    "print(cubed)"
   ]
  },
  {
   "cell_type": "markdown",
   "id": "4c1997ea",
   "metadata": {},
   "source": [
    "## Strings (`str`)\n",
    "\n",
    "**Strings** represent sequences of characters, like words or sentences.\n",
    "Strings can be enclosed in single quotes `'` or double quotes `\"`."
   ]
  },
  {
   "cell_type": "code",
   "execution_count": null,
   "id": "e1464b4c",
   "metadata": {},
   "outputs": [],
   "source": [
    "mystring = 'hello'\n",
    "print(mystring)\n",
    "\n",
    "mystring = \"hello\"\n",
    "print(mystring)\n",
    "\n",
    "# Handling apostrophes in strings\n",
    "mystring = \"Don't worry about apostrophes. If you want an apostrophe (single quotation mark) in your string, just use double quotation marks to enclose the string.\"\n",
    "print(mystring)"
   ]
  },
  {
   "cell_type": "markdown",
   "id": "a4095de3",
   "metadata": {},
   "source": [
    "You can concatenate (combine) strings using the `+` operator."
   ]
  },
  {
   "cell_type": "code",
   "execution_count": null,
   "id": "80926318",
   "metadata": {},
   "outputs": [],
   "source": [
    "hello = \"hello\"\n",
    "world = \"world\"\n",
    "helloworld = hello + \" \" + world\n",
    "print(helloworld)"
   ]
  },
  {
   "cell_type": "markdown",
   "id": "8221c70e",
   "metadata": {},
   "source": [
    "## Converting types\n",
    "\n",
    "Sometimes, you might need to convert a variable from one **data type** to another. \n",
    "In Python, you can do this using type conversion functions, such as `int()`, `float()`, and `str()`."
   ]
  },
  {
   "cell_type": "code",
   "execution_count": null,
   "id": "75a70ed1",
   "metadata": {},
   "outputs": [],
   "source": [
    "# Trying to add an integer and a string (this will cause an error)\n",
    "one = 1\n",
    "two = 2\n",
    "hello = \"hello\"\n",
    "\n",
    "# Uncomment the line below to see the error\n",
    "# print(one + two + hello)  # This will give an error because you cannot add a string and integers directly"
   ]
  },
  {
   "cell_type": "markdown",
   "id": "0c821ee3",
   "metadata": {},
   "source": [
    "You can convert between types using functions like `int()`, `float()`, and `str()`."
   ]
  },
  {
   "cell_type": "code",
   "execution_count": null,
   "id": "a948bd2f",
   "metadata": {},
   "outputs": [],
   "source": [
    "number = 15\n",
    "print(str(number))\n",
    "print(float(number))\n",
    "\n",
    "string = \"10\"\n",
    "print(int(string))\n",
    "print(float(string))\n",
    "\n",
    "print(float(\"10.123\"))"
   ]
  },
  {
   "cell_type": "markdown",
   "id": "31984b34",
   "metadata": {},
   "source": [
    "Of course, you can only convert a string into a number if the string can be interpreted as a valid number.\n",
    "For example, the following will not work because \"abc\" cannot be converted into a float or integer.\n",
    "\n",
    "Try to run these lines to see the error!"
   ]
  },
  {
   "cell_type": "code",
   "execution_count": null,
   "id": "691099de",
   "metadata": {},
   "outputs": [],
   "source": [
    "print(float(\"abc\"))\n",
    "print(int(\"10.282\"))"
   ]
  },
  {
   "cell_type": "markdown",
   "id": "4d5921db",
   "metadata": {},
   "source": [
    "A note on types: You can check the type of a variable using the `type()` function.\n",
    "This is very useful for debugging and understanding what kind of data you're working with."
   ]
  },
  {
   "cell_type": "code",
   "execution_count": null,
   "id": "4e9f3387",
   "metadata": {},
   "outputs": [],
   "source": [
    "a = 1\n",
    "b = 1.0\n",
    "c = \"1\"\n",
    "print(type(a))\n",
    "print(type(b))\n",
    "print(type(c))"
   ]
  },
  {
   "cell_type": "markdown",
   "id": "1c74a7c8",
   "metadata": {},
   "source": [
    "# Exercise:\n",
    "\n",
    "Write code that performs the following:\n",
    "- create a new variable `x`, with value 2\n",
    "- set `y` to 2^(x^(x^x)), where ^ stands for exponentiation. Note: 2^(x^(x^x)) is not a valid Python expression (at least it does not mean what you think it means), so turn it into one.\n",
    "- convert `y` into a string and print it"
   ]
  },
  {
   "cell_type": "code",
   "execution_count": null,
   "id": "2205900c",
   "metadata": {},
   "outputs": [],
   "source": [
    "pass # this is just a placeholder for you code"
   ]
  }
 ],
 "metadata": {},
 "nbformat": 4,
 "nbformat_minor": 5
}
