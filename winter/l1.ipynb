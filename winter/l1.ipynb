{
 "cells": [
  {
   "cell_type": "markdown",
   "id": "b457bfd0",
   "metadata": {},
   "source": [
    "- Vocabulary are in **bold text**.\n",
    "\n",
    "- Code snippets are in `monospace`.\n",
    "\n",
    "- Comments starts with the `#` symbol; they will be ignored by the Python interpreter.\n",
    "\n",
    "- Run all following cells, including the ones that would not work to familiarize yourself with the error messages."
   ]
  },
  {
   "cell_type": "markdown",
   "id": "456ca59c",
   "metadata": {},
   "source": [
    "The `print` function displays values of variables or constants onto thee screen."
   ]
  },
  {
   "cell_type": "code",
   "execution_count": null,
   "id": "13a8fcef",
   "metadata": {},
   "outputs": [],
   "source": [
    "print(\"Hello world\")"
   ]
  },
  {
   "cell_type": "markdown",
   "id": "441806f3",
   "metadata": {},
   "source": [
    "# Variables and Basic Types\n",
    "\n",
    "It is at times useful to think of variables as places to store values. The variable `x` refers to a certain space, `y` another. You may change the values stored in these spaces, but before doing that, you need to define the variable.\n",
    "\n",
    "To define an variable, write `variable_name = value`. Note that you are also assigning a value to that variable.\n",
    "\n",
    "Basic **Data Types** include numbers (`int` and `float`), and strings (`str`)\n",
    "\n",
    "First, we look at numbers.\n",
    "\n",
    "## Numbers (`int` and `float`)"
   ]
  },
  {
   "cell_type": "code",
   "execution_count": null,
   "id": "f3aa01b9",
   "metadata": {},
   "outputs": [],
   "source": [
    "myint = 7\n",
    "print(myint)\n",
    "\n",
    "myfloat = 7.0\n",
    "print(myfloat)"
   ]
  },
  {
   "cell_type": "markdown",
   "id": "c36de880",
   "metadata": {},
   "source": [
    "Some operations you can do with numbers"
   ]
  },
  {
   "cell_type": "code",
   "execution_count": null,
   "id": "216c7508",
   "metadata": {},
   "outputs": [],
   "source": [
    "one = 1\n",
    "two = 2\n",
    "three = one + two\n",
    "print(three)"
   ]
  },
  {
   "cell_type": "markdown",
   "id": "538da0e3",
   "metadata": {},
   "source": [
    "Some more operations"
   ]
  },
  {
   "cell_type": "code",
   "execution_count": null,
   "id": "0ade2241",
   "metadata": {},
   "outputs": [],
   "source": [
    "number = 1 + 2 * 3 / 4.0\n",
    "print(number)\n",
    "\n",
    "remainder = 11 % 3\n",
    "print(remainder)\n",
    "\n",
    "squared = 7 ** 2\n",
    "cubed = 2 ** 3\n",
    "print(squared)\n",
    "print(cubed)"
   ]
  },
  {
   "cell_type": "markdown",
   "id": "cb455698",
   "metadata": {},
   "source": [
    "## Strings (`str`)\n",
    "\n",
    "\n",
    "\n",
    "The second basic data type in python is **string** (`str`), which represent a sequence of characters.\n",
    "\n",
    "Strings are enclosed in (either single or double) quotation marks."
   ]
  },
  {
   "cell_type": "code",
   "execution_count": null,
   "id": "97033fbe",
   "metadata": {},
   "outputs": [],
   "source": [
    "mystring = 'hello'\n",
    "print(mystring)\n",
    "mystring = \"hello\"\n",
    "print(mystring)\n",
    "\n",
    "mystring = \"Don't worry about apostrophes. If you want an apostrophe (single quotation mark) in your string, just use double quotation marks to enclose the string.\"\n",
    "print(mystring)"
   ]
  },
  {
   "cell_type": "markdown",
   "id": "e4ebdf0a",
   "metadata": {},
   "source": [
    "You may concatenate multiple strings using `+`."
   ]
  },
  {
   "cell_type": "code",
   "execution_count": null,
   "id": "78b157f7",
   "metadata": {},
   "outputs": [],
   "source": [
    "hello = \"hello\"\n",
    "world = \"world\"\n",
    "helloworld = hello + \" \" + world\n",
    "print(helloworld)"
   ]
  },
  {
   "cell_type": "markdown",
   "id": "ed3afa51",
   "metadata": {},
   "source": [
    "## Converting types"
   ]
  },
  {
   "cell_type": "code",
   "execution_count": null,
   "id": "6f34ffa2",
   "metadata": {},
   "outputs": [],
   "source": [
    "# Since not all variables are strings, the following will not work!\n",
    "one = 1\n",
    "two = 2\n",
    "hello = \"hello\"\n",
    "\n",
    "print(one + two + hello)"
   ]
  },
  {
   "cell_type": "markdown",
   "id": "6588302c",
   "metadata": {},
   "source": [
    "You can convert between types using `typename(variable)`.\n",
    "\n",
    "Type names include `int` for integer, `float` for floating point numbers, and `str` for strings."
   ]
  },
  {
   "cell_type": "code",
   "execution_count": null,
   "id": "5068bcd8",
   "metadata": {},
   "outputs": [],
   "source": [
    "number = 15\n",
    "print(str(number))\n",
    "print(float(number))"
   ]
  },
  {
   "cell_type": "code",
   "execution_count": null,
   "id": "56b142a2",
   "metadata": {},
   "outputs": [],
   "source": [
    "string = \"10\"\n",
    "print(int(string))\n",
    "print(float(string))\n",
    "print(float(\"10.123\"))"
   ]
  },
  {
   "cell_type": "markdown",
   "id": "0742fc65",
   "metadata": {},
   "source": [
    "Of course, you can only convert a string into a number if the string may be interpreted as a number (resp. integer).\n",
    "\n",
    "For example, the following will not work. Try them!"
   ]
  },
  {
   "cell_type": "code",
   "execution_count": null,
   "id": "81ff7566",
   "metadata": {},
   "outputs": [],
   "source": [
    "print(float(\"abc\"))\n",
    "print(int(\"10.282\"))"
   ]
  },
  {
   "cell_type": "markdown",
   "id": "0c8ceb17",
   "metadata": {},
   "source": [
    "# Conditionals"
   ]
  }
 ],
 "metadata": {
  "kernelspec": {
   "display_name": "Python 3 (ipykernel)",
   "language": "python",
   "name": "python3"
  },
  "language_info": {
   "codemirror_mode": {
    "name": "ipython",
    "version": 3
   },
   "file_extension": ".py",
   "mimetype": "text/x-python",
   "name": "python",
   "nbconvert_exporter": "python",
   "pygments_lexer": "ipython3",
   "version": "3.11.4"
  }
 },
 "nbformat": 4,
 "nbformat_minor": 5
}
