{
 "cells": [
  {
   "cell_type": "markdown",
   "id": "90bc9e68",
   "metadata": {},
   "source": [
    "\n",
    "# Conditionals\n",
    "\n",
    "Note: These notebooks are designed to quickly introduce to *programming*, not *computer science*.\n",
    "\n",
    "- You do not need to know exactly how everything works, but make sure you have a rough idea of what each line of code means.\n",
    "- Your final goal is to know how to code (with aid of the Internet).\n",
    "- You may skip over all explanation, but do run all the code.\n",
    "- The explanations are terse. If you have question, Google. If you don't, find some question to Google.\n",
    "\n",
    "Knowing how to Google and ChatGPT is vary useful, but to be a Good Googler, you'll need to know the correct vocabulary, which is displayed in **bold** in this notebook.\n",
    "\n",
    "\n",
    "In this section, we learn about **conditionals**.\n",
    "Conditionals allow your program to make decisions and execute different code based on certain conditions.\n",
    "The most common conditional is the `if` statement. \n",
    "You can also use `elif` (else if) and `else` to specify additional conditions.\n",
    "\n",
    "After completing this notebook, you should know how to write conditional statements with `if`, `elif`, and `else`.\n"
   ]
  },
  {
   "cell_type": "markdown",
   "id": "9b72892d",
   "metadata": {},
   "source": [
    "\n",
    "First, let's look at how to compare values. In Python, `==` is used to check equality, while `=` is used for assignment (giving a variable a value).\n"
   ]
  },
  {
   "cell_type": "code",
   "execution_count": null,
   "id": "531fdd0f",
   "metadata": {},
   "outputs": [],
   "source": [
    "x = 2\n",
    "print(x == 2)\n",
    "print(x == 3)\n",
    "print(x < 3)"
   ]
  },
  {
   "cell_type": "markdown",
   "id": "40766270",
   "metadata": {},
   "source": [
    "\n",
    "Note that Python evaluates boolean expressions like `x == 2` to produce **boolean values**: `True` or `False`.\n",
    "You can check the type of a boolean value using the `type()` function.\n"
   ]
  },
  {
   "cell_type": "code",
   "execution_count": null,
   "id": "f2e3707b",
   "metadata": {},
   "outputs": [],
   "source": [
    "print(type(x == 2))"
   ]
  },
  {
   "cell_type": "markdown",
   "id": "17b718e2",
   "metadata": {},
   "source": [
    "\n",
    "The *value* of the *expression* `x == 2` is **boolean**. Just like numbers and strings, it is a basic data type.\n",
    "And just like any number or string, you may store a boolean value.\n",
    "\n",
    "In full detail, the following line of code checks if x equals 2 with the boolean expression x == 2, and store the truth value of this statement in `x`.\n"
   ]
  },
  {
   "cell_type": "code",
   "execution_count": null,
   "id": "7aa5c405",
   "metadata": {},
   "outputs": [],
   "source": [
    "x_is_2 = (x == 2)\n",
    "print(x_is_2)"
   ]
  },
  {
   "cell_type": "markdown",
   "id": "4ad99cbc",
   "metadata": {},
   "source": [
    "\n",
    "You can combine multiple boolean expressions using `and`, `or`, and negate them using `not`.\n",
    "\n",
    "- `and` returns True only if both conditions are True.\n",
    "- `or` returns True if at least one condition is True.\n",
    "- `not` negates the boolean value.\n",
    "\n",
    "Using parentheses `()` makes your code more readable and prevents confusion with operator precedence.\n"
   ]
  },
  {
   "cell_type": "code",
   "execution_count": null,
   "id": "58af38ef",
   "metadata": {},
   "outputs": [],
   "source": [
    "x = 2\n",
    "y = 3\n",
    "print(x == 2 and y == 3)\n",
    "print(x == 2 and y == 4)\n",
    "print(x == 2 or y == 4)\n",
    "print(x == 3 or y == 4)\n",
    "print(not x == 3)\n",
    "print((not x == 2) and y == 3)"
   ]
  },
  {
   "cell_type": "markdown",
   "id": "dd4f5052",
   "metadata": {},
   "source": [
    "\n",
    "We can now use these boolean values in `if` statements.\n",
    "Note that a if statement always have the following format:\n",
    "\n",
    "if [boolean statement]:\n",
    "    [code to run when the boolean statement is true]\n",
    "\n",
    "[Other commands outside of the if statement]\n",
    "\n",
    "Note:\n",
    "- There must be a colon after the boolean statement.\n",
    "- You may have multiple lines of code in [code to run when the boolean statement is true]. But they must all be indented at the same level. This is Python's way to tell what part of the code is part of the if statement.\n",
    "- When in doubt, Google.\n"
   ]
  },
  {
   "cell_type": "code",
   "execution_count": null,
   "id": "4044b881",
   "metadata": {},
   "outputs": [],
   "source": [
    "name = \"John\"\n",
    "age = 23\n",
    "if name == \"John\" and age == 23:\n",
    "    print(\"Your name is John, and you are also 23 years old.\")  # This will print because both conditions are True.\n",
    "\n",
    "if name == \"John\" or name == \"Rick\":\n",
    "    print(\"Your name is either John or Rick.\")  # This will print because the first condition is True."
   ]
  },
  {
   "cell_type": "markdown",
   "id": "93cfdb07",
   "metadata": {},
   "source": [
    "\n",
    "Now let's look at more complex conditionals with `if`, `elif`, and `else`.\n",
    "\n",
    "The `elif` keyword allows you to check additional conditions if the previous conditions weren't true.\n",
    "The `else` keyword is used when none of the conditions match.\n"
   ]
  },
  {
   "cell_type": "code",
   "execution_count": null,
   "id": "90e63829",
   "metadata": {},
   "outputs": [],
   "source": [
    "statement = False\n",
    "another_statement = True\n",
    "if statement is True:\n",
    "    # do something\n",
    "    pass\n",
    "elif another_statement is True:  # else if\n",
    "    # do something else\n",
    "    pass\n",
    "else:\n",
    "    # do something else if none of the conditions are true\n",
    "    pass"
   ]
  },
  {
   "cell_type": "markdown",
   "id": "7f3c63cf",
   "metadata": {},
   "source": [
    "\n",
    "Simple `if` statement example:\n"
   ]
  },
  {
   "cell_type": "code",
   "execution_count": null,
   "id": "1887d4ae",
   "metadata": {},
   "outputs": [],
   "source": [
    "x = 2\n",
    "if x == 2:\n",
    "    print(\"x equals two!\")  # This will print because the condition is True.\n",
    "else:\n",
    "    print(\"x does not equal to two.\")  # This won't run."
   ]
  },
  {
   "cell_type": "markdown",
   "id": "c8a54ee0",
   "metadata": {},
   "source": [
    "\n",
    "# Exercise:\n",
    "Write code to test whether x is a multiple of 2 and 3, but not 7\n"
   ]
  },
  {
   "cell_type": "code",
   "execution_count": null,
   "id": "005e3caa",
   "metadata": {},
   "outputs": [],
   "source": [
    "x = 653184\n",
    "# fill out the following template:\n",
    "if ...:\n",
    "    print(\"x is a multiple of 2 and 3, but not 7\")"
   ]
  }
 ],
 "metadata": {},
 "nbformat": 4,
 "nbformat_minor": 5
}
