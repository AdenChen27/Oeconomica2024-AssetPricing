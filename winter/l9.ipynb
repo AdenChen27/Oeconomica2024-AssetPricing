{
 "cells": [
  {
   "cell_type": "markdown",
   "id": "b39c2672",
   "metadata": {},
   "source": [
    "\n",
    "# Scraping the Web\n"
   ]
  },
  {
   "cell_type": "markdown",
   "id": "a3ac0820",
   "metadata": {},
   "source": [
    "\n",
    "## From URL to HTML\n",
    "\n",
    "Go to [UChicago's Economics Catalog](http://collegecatalog.uchicago.edu/thecollege/economics/) and **inspect** the page (Google how to do it).\n"
   ]
  },
  {
   "cell_type": "code",
   "execution_count": null,
   "id": "96dd89e0",
   "metadata": {},
   "outputs": [],
   "source": [
    "from urllib.request import urlopen\n",
    "url = r\"http://collegecatalog.uchicago.edu/thecollege/economics/\"\n",
    "page = urlopen(url)\n",
    "\n",
    "html = page.read().decode(\"utf-8\")\n",
    "html"
   ]
  },
  {
   "cell_type": "markdown",
   "id": "eccf8528",
   "metadata": {},
   "source": [
    "\n",
    "## What are we finding?\n",
    "\n",
    "Suppose we want to scrap the names of all courses.\n",
    "Inspect again the webpage.\n",
    "In what HTML tags are the names located?\n"
   ]
  },
  {
   "cell_type": "code",
   "execution_count": null,
   "id": "54c8c4ae",
   "metadata": {},
   "outputs": [],
   "source": [
    "from bs4 import BeautifulSoup\n",
    "soup = BeautifulSoup(html, \"html.parser\")\n",
    "soup.find_all(\"p\", {\"class\": \"courseblocktitle\"})"
   ]
  },
  {
   "cell_type": "markdown",
   "id": "9d1618d2",
   "metadata": {},
   "source": [
    "\n",
    "### \n"
   ]
  },
  {
   "cell_type": "code",
   "execution_count": null,
   "id": "d8a088bd",
   "metadata": {},
   "outputs": [],
   "source": [
    "course_titles = []\n",
    "for a in soup.find_all(\"p\",  {\"class\": \"courseblocktitle\"}):\n",
    "    course_titles.appen(a.find(\"strong\").text)"
   ]
  },
  {
   "cell_type": "markdown",
   "id": "715de50c",
   "metadata": {},
   "source": [
    "\n",
    "# Cleaning\n",
    "\n",
    "`course_titles` includes not just the name of the courses, but also the course numbers and units worth.\n",
    "Clean the data so we have just a list of course names left.\n",
    "\n",
    "Hint: course number, course name, and units are all separated by a single period.\n"
   ]
  },
  {
   "cell_type": "code",
   "execution_count": null,
   "id": "a81d6d17",
   "metadata": {},
   "outputs": [],
   "source": [
    "pass"
   ]
  },
  {
   "cell_type": "markdown",
   "id": "a13703a5",
   "metadata": {},
   "source": [
    "\n",
    "# DOI\n",
    "\n",
    "Many scientific papers have corresponding DOIs that can be used to uniquely identify them.\n",
    "Crossref provides a free API that takes in a doi and output the metadata of the associated paper.\n",
    "\n",
    "Check out for example:\n",
    "[`https://api.crossref.org/works/10.3386/w4509`](https://api.crossref.org/works/10.3386/w4509).\n",
    "\n",
    "Write a script that takes in a DOI and outputs the authors of the associated paper.\n"
   ]
  },
  {
   "cell_type": "code",
   "execution_count": null,
   "id": "b7e058c0",
   "metadata": {},
   "outputs": [],
   "source": [
    "doi = r\"10.3386/w4509\""
   ]
  },
  {
   "cell_type": "markdown",
   "id": "45394404",
   "metadata": {},
   "source": [
    "\n",
    "# Photos\n",
    "\n",
    "Scrap all thumbnails from [https://www.popsci.com/](https://www.popsci.com/).\n",
    "\n",
    "Hint: You may have to [pass a fake header](https://stackoverflow.com/questions/27652543/how-can-i-use-pythons-requests-to-fake-a-browser-visit-a-k-a-and-generate-user) to fool the server.\n",
    "\n",
    "```\n",
    "headers = {'User-Agent': 'Mozilla/5.0 (Macintosh; Intel Mac OS X 10_10_1) AppleWebKit/537.36 (KHTML, like Gecko) Chrome/39.0.2171.95 Safari/537.36'}\n",
    "```\n",
    "\n",
    "But first try not passing anything to see how and what fails!\n"
   ]
  },
  {
   "cell_type": "code",
   "execution_count": null,
   "id": "76640e8a",
   "metadata": {},
   "outputs": [],
   "source": [
    "url = r\"https://www.popsci.com/\""
   ]
  }
 ],
 "metadata": {},
 "nbformat": 4,
 "nbformat_minor": 5
}
