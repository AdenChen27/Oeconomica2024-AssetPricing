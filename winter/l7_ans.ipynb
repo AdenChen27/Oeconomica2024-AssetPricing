{
 "cells": [
  {
   "cell_type": "markdown",
   "id": "c6d86740",
   "metadata": {},
   "source": [
    "\n",
    "# Pandas: Data Visualization\n"
   ]
  },
  {
   "cell_type": "code",
   "execution_count": null,
   "id": "4745b271",
   "metadata": {},
   "outputs": [],
   "source": [
    "import pandas as pd\n",
    "import numpy as np"
   ]
  },
  {
   "cell_type": "markdown",
   "id": "f597f7d7",
   "metadata": {},
   "source": [
    "\n",
    "# Warm up\n",
    "\n",
    "Install `matplotlib` and use it to plot the following functions:\n",
    "- $f(x) = x - 1$\n",
    "- $f(x) = x^7 - x^5$\n",
    "- $f(x) = \\sin(x)$\n"
   ]
  },
  {
   "cell_type": "code",
   "execution_count": null,
   "id": "7514afe4",
   "metadata": {},
   "outputs": [],
   "source": []
  },
  {
   "cell_type": "markdown",
   "id": "0c6b0282",
   "metadata": {},
   "source": [
    "\n",
    "# Democracy of the US\n",
    "\n",
    "Load the [`datasets/electoral-democracy-index.csv`](https://ourworldindata.org/democracy) file, which contains data on V-Dem's country/year-level democracy index.\n",
    "- Plot United States data over the years as a line plot.\n",
    "- Fit a polynomial of degree 4 through the data.\n",
    "- Clearly label you graph.\n"
   ]
  },
  {
   "cell_type": "code",
   "execution_count": null,
   "id": "e6687c41",
   "metadata": {},
   "outputs": [],
   "source": []
  },
  {
   "cell_type": "markdown",
   "id": "be0d560c",
   "metadata": {},
   "source": [
    "\n",
    "# A Comparison\n",
    "\n",
    "Create a new graph, comparing the democracy scores of the US and the UK (plot data of both countries in the same plot).\n"
   ]
  },
  {
   "cell_type": "code",
   "execution_count": null,
   "id": "4d51e3c1",
   "metadata": {},
   "outputs": [],
   "source": []
  },
  {
   "cell_type": "markdown",
   "id": "211addbf",
   "metadata": {},
   "source": [
    "\n",
    "# Probability\n",
    "\n",
    "(Stolen from Dan Nicolae)\n",
    "\n",
    "Generate 500 samples of 2 random variables $X_1$ and $X_2$ with distribution $\\mathrm{Exponential}(1)$.\n",
    "For each of the 500 samples, calculate $\\min(X_1, X_2)$ $\\max(X_1,X_2)$, $R = \\max(X_1, X_2) − \\min(X_1,X_2)$, and $(X_1 − X_2)$.\n",
    "This should give you 500 tuples/arrays, each of them constructed using 2 independent\n",
    "draws. Create a scatter plot of $X_1 − X_2$ versus $\\min(X_1, X_2)$.\n",
    "\n",
    "Hint: use `numpy.random.exponential` to generate random variables following the exponential distribution.\n"
   ]
  },
  {
   "cell_type": "code",
   "execution_count": null,
   "id": "56bf750d",
   "metadata": {},
   "outputs": [],
   "source": []
  },
  {
   "cell_type": "markdown",
   "id": "087e6100",
   "metadata": {},
   "source": [
    "\n",
    "# GDP\n",
    "\n",
    "Load the [`datasets/gdp-per-capita-worldbank.csv`](https://ourworldindata.org/grapher/gdp-per-capita-worldbank) dataset.\n",
    "Plot United States's GDP per capita using a line plot.\n"
   ]
  },
  {
   "cell_type": "code",
   "execution_count": null,
   "id": "d6f8cdaa",
   "metadata": {},
   "outputs": [],
   "source": []
  },
  {
   "cell_type": "markdown",
   "id": "c0885e1b",
   "metadata": {},
   "source": [
    "\n",
    "# Democratic Backslash, revisited\n",
    "\n",
    "Load the [`datasets/electoral-democracy-index.csv`](https://ourworldindata.org/democracy) and [`datasets/population.csv`](https://ourworldindata.org/population-growth) datasets.\n",
    "For each year (with sufficient data), calculate a population weighted global democracy index.\n",
    "Plot your data.\n",
    "What trend do you see? \n"
   ]
  },
  {
   "cell_type": "code",
   "execution_count": null,
   "id": "f0f7f605",
   "metadata": {},
   "outputs": [],
   "source": [
    "df = pd.read_csv(\"datasets/electoral-democracy-index.csv\")\n",
    "df = df.rename(columns = {\n",
    "    'Electoral democracy index (best estimate, aggregate: average)': \"Democracy\"\n",
    "})\n",
    "popdf = pd.read_csv(\"datasets/population.csv\")\n",
    "popdf = popdf.rename(columns = {\n",
    "    'Population - Sex: all - Age: all - Variant: estimates': \"Population\"\n",
    "})"
   ]
  },
  {
   "cell_type": "code",
   "execution_count": null,
   "id": "d7211c6d",
   "metadata": {},
   "outputs": [],
   "source": [
    "years = df[\"Year\"].unique()\n",
    "global_dem_index = {}\n",
    "\n",
    "for year in years:\n",
    "    df_year = df[df[\"Year\"] == year].dropna()\n",
    "    popdf_year = popdf[popdf[\"Year\"] == year].dropna()\n",
    "    \n",
    "    common_countries = list(set(df_year[\"Entity\"]) & set(popdf_year[\"Entity\"]))\n",
    "    \n",
    "    df_year = df_year.set_index(\"Entity\")\n",
    "    popdf_year = popdf_year.set_index(\"Entity\")\n",
    "    \n",
    "    dem_vec = df_year.loc[common_countries][\"Democracy\"]\n",
    "    pop_vec = popdf_year.loc[common_countries][\"Population\"]\n",
    "    if len(dem_vec) == 0:\n",
    "        continue\n",
    "\n",
    "    global_democracy_index = dem_vec.dot(pop_vec) / pop_vec.sum()\n",
    "    global_dem_index[year] = global_democracy_index"
   ]
  },
  {
   "cell_type": "code",
   "execution_count": null,
   "id": "3901e7e6",
   "metadata": {},
   "outputs": [],
   "source": [
    "global_dem = pd.DataFrame(global_dem_index, index=[\"Democracy\"]).transpose()\n",
    "global_dem.plot()"
   ]
  },
  {
   "cell_type": "markdown",
   "id": "eab2c53b",
   "metadata": {},
   "source": [
    "\n",
    "# Save Your Work\n",
    "\n",
    "Find a way to save your graphs. Do you graphs look blurry? Fix it.\n",
    "\n",
    "Hint: There are two approaches: (1) increase dpi, (2) store your plot as a vector image. If you want to include you plots into LaTeX files, look into `.pgf` image files.\n"
   ]
  },
  {
   "cell_type": "code",
   "execution_count": null,
   "id": "d47e889b",
   "metadata": {},
   "outputs": [],
   "source": []
  }
 ],
 "metadata": {},
 "nbformat": 4,
 "nbformat_minor": 5
}
