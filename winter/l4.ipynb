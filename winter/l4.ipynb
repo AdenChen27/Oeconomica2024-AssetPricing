{
 "cells": [
  {
   "cell_type": "markdown",
   "id": "f971a23d",
   "metadata": {},
   "source": [
    "\n",
    "# Loops\n",
    "\n",
    "Note: These notebooks are designed to quickly introduce to *programming*, not *computer science*.\n",
    "\n",
    "- You do not need to know exactly how everything works, but make sure you have a rough idea of what each line of code means.\n",
    "- Your final goal is to know how to code (with aid of the Internet).\n",
    "- You may skip over all explanation, but do run all the code.\n",
    "- The explanations are terse. If you have question, Google. If you don't, find some question to Google.\n",
    "\n",
    "Knowing how to Google and ChatGPT is vary useful, but to be a Good Googler, you'll need to know the correct vocabulary, which is displayed in **bold** in this notebook.\n",
    "\n",
    "After completing this notebook, you should:\n",
    "- understand what loops are and how to write basic `for` and `while` loops\n",
    "- understand how and when to use `continue` and `break`\n"
   ]
  },
  {
   "cell_type": "markdown",
   "id": "30cc2b08",
   "metadata": {},
   "source": [
    "\n",
    "## `for` Loop\n",
    "\n",
    "A **`for` loop** is used to iterate over a sequence (such as a list, tuple, string, or range) and perform an action for each element in the sequence.\n",
    "It’s commonly used when you know the number of iterations or when you're working with a collection of data.\n"
   ]
  },
  {
   "cell_type": "code",
   "execution_count": null,
   "id": "7c479549",
   "metadata": {},
   "outputs": [],
   "source": [
    "# Create a list of course names\n",
    "courses = [\"Economics 101\", \"Microeconomics\", \"Macroeconomics\", \"Statistics 101\"]\n",
    "\n",
    "# Using a for loop to iterate over the courses\n",
    "for course in courses:\n",
    "    print(course)"
   ]
  },
  {
   "cell_type": "markdown",
   "id": "0d70c10a",
   "metadata": {},
   "source": [
    "\n",
    "In this example, the **`for` loop** iterates through the `courses` list, and for each iteration, the variable `course` takes the value of the next item in the list. The loop then prints each course name.\n",
    "\n",
    "### Using the `range()` Function with `for` Loop\n",
    "\n",
    "The `range()` function generates a sequence of numbers and is often used with `for` loops when you need to perform an action a specific number of times.\n",
    "\n",
    "### Example:\n",
    "\n",
    "Let's print numbers from 1 to 5 using a `for` loop.\n",
    "\n"
   ]
  },
  {
   "cell_type": "code",
   "execution_count": null,
   "id": "c55aef3a",
   "metadata": {},
   "outputs": [],
   "source": [
    "# Using range() to generate numbers from 1 to 5\n",
    "for number in range(1, 6):\n",
    "    print(number)"
   ]
  },
  {
   "cell_type": "markdown",
   "id": "2267ae9d",
   "metadata": {},
   "source": [
    "\n",
    "Here, `range(1, 6)` generates the numbers 1, 2, 3, 4, and 5. The **`for` loop** iterates over these numbers and prints each one.\n"
   ]
  },
  {
   "cell_type": "markdown",
   "id": "ecdefaf4",
   "metadata": {},
   "source": [
    "\n",
    "## `while` Loop\n",
    "\n",
    "A **`while` loop** repeatedly executes a block of code as long as a specified condition is true. It's useful when you don't know the exact number of iterations in advance, but you have a condition that needs to be met.\n"
   ]
  },
  {
   "cell_type": "code",
   "execution_count": null,
   "id": "9c04b666",
   "metadata": {},
   "outputs": [],
   "source": [
    "number = 1\n",
    "while number <= 5:\n",
    "    print(number)\n",
    "    number += 1  # Increment the number by 1"
   ]
  },
  {
   "cell_type": "markdown",
   "id": "d33c6cd2",
   "metadata": {},
   "source": [
    "\n",
    "In this example, the **`while` loop** continues to execute as long as the condition `number <= 5` is true. After each iteration, we increment the `number` variable by 1 to avoid an infinite loop.\n"
   ]
  },
  {
   "cell_type": "markdown",
   "id": "c9b5a137",
   "metadata": {},
   "source": [
    "\n",
    "### Infinite Loop\n",
    "\n",
    "Be cautious with `while` loops, as it's easy to create an **infinite loop** if the loop condition never becomes false. For example:\n"
   ]
  },
  {
   "cell_type": "code",
   "execution_count": null,
   "id": "644abd16",
   "metadata": {},
   "outputs": [],
   "source": [
    "while True:\n",
    "    print(\"This will run forever!\")"
   ]
  },
  {
   "cell_type": "markdown",
   "id": "2399ecf5",
   "metadata": {},
   "source": [
    "\n",
    "## Exercise 1:\n",
    "Google how to use `continue` and `break`.\n",
    "Make sure you understand the difference between the following two loops.\n"
   ]
  },
  {
   "cell_type": "code",
   "execution_count": null,
   "id": "62deed20",
   "metadata": {},
   "outputs": [],
   "source": [
    "for number in range(1, 6):\n",
    "    if number == 3:\n",
    "        break\n",
    "    print(number)\n",
    "\n",
    "for number in range(1, 6):\n",
    "    if number == 3:\n",
    "        continue\n",
    "    print(number)"
   ]
  },
  {
   "cell_type": "markdown",
   "id": "392051c5",
   "metadata": {},
   "source": [
    "\n",
    "## Exercise 2:\n",
    "Run a for loop on a dictionary. What happens? What are you looping over?\n"
   ]
  },
  {
   "cell_type": "code",
   "execution_count": null,
   "id": "8a839ae8",
   "metadata": {},
   "outputs": [],
   "source": []
  },
  {
   "cell_type": "markdown",
   "id": "4a4a61eb",
   "metadata": {},
   "source": [
    "\n",
    "## Exercise 3:\n",
    "In a previous notebook, you calculated the sum of all integer multiples of 7 between 1 and 7777 using the `sum` function.\n",
    "This time do the same thing using a for loop.\n",
    "\n",
    "Hint 1: you do not need to use a list to store the relevant numbers.\n",
    "\n",
    "Hint 2: in each iteration, add to your sum one more number.\n"
   ]
  },
  {
   "cell_type": "code",
   "execution_count": null,
   "id": "1c52b81a",
   "metadata": {},
   "outputs": [],
   "source": []
  },
  {
   "cell_type": "markdown",
   "id": "70478cc3",
   "metadata": {},
   "source": [
    "\n",
    "Hint 3:\n",
    "your code should look something like:\n",
    "```\n",
    "sum_of_numbers = 0\n",
    "for all x such that 1 <= x <= 7777:\n",
    "    if x a multiple of 7:\n",
    "        sum_of_numbers += x\n",
    "```\n",
    "the last line of which is equivalent to `sum_of_numbers = sum_of_numbers + x`.\n"
   ]
  },
  {
   "cell_type": "markdown",
   "id": "3b268b72",
   "metadata": {},
   "source": [
    "\n",
    "## Exercise 4:\n",
    "\n",
    "1. Using a for loop, find the *first* occurrence of the character \"T\" in the following DNA sequence.\n",
    "2. Using a for loop, find *all* occurrences of the character \"T\" in the following DNA sequence. You should obtain a list of indexes.\n",
    "\n",
    "Note that these are inverses of \"indexing.\"\n",
    "\n",
    "Hint: you might need to use `break` or `continue`.\n"
   ]
  },
  {
   "cell_type": "code",
   "execution_count": null,
   "id": "d9f3015f",
   "metadata": {},
   "outputs": [],
   "source": [
    "string = 'GCGGTCATCTTTGCACCTAAGACAAACACCCGGACACCCATATCTGTCAATCTACGCGTCTGATCTGGTGCATTCCCCATCACAATTTATCCGAATCCTTTGACTTCCTGTCTGTTCCCGGCCGTGTGTAGGTTGACGGCCGACGTAACCCATGGTCGGAACAATTGACGTCCTGACATCCCTGCCGCGATCAACGAGGTGCCCAACACATGGGGTCTATCCTTGCTCGAAATACGAATACGCTGAAGGATATCGTTTATGACCCCTGCGCTAAGCCGGAAAGTCGGTTTGTACCCCACGTCAGGTCGTAAGGAAAACCCGCGGGAGACGAAACAAAGCACTCCACGCCGGTAAGTCTTCGCTGCAATGAAATTCGGACAGTCGCGTACCGTTTCGCGATTCCACCATCCATTCCTCCTAAGATGTCGGCCACTATCATTGCAATGAGGGGGGGCGCCGATACGCCACTCGCGCCACTTTAACCATTAGCGCCTGAATTCGGATTTCACCGTGGTCACTGGAACGAGGCGAATCGGCGCGTAGAGTAGGCCCTATTTTTATCAGCTGAAATGCTGAATACCTCCAACTAAGAATTCATTTATAGCCCCGTTGCTTGCGTGTAGGCAAAATCGAACTCGGCCAAAGCTACCGTGAAGGAGCTGATACCGAATCTATGGATATGGTTCACGTTACGACATCATCCCCGTAATCCGAAAGAGTCGTCGTCAACATGTACCTCAATCGGTTACGCTTATTTGGAGTCCCGTCGTACCTCGACGTCCTATTCACGGGTAGATGCCACGTGGCGTCCGTTTTTGGCACCCCGAGTCATTGCATTTTTCGTTTCCACACAGATTATTAGGCAAACTTTCGCGTAAGCGATTCCCTGTGCCGCACGGTAAAGCCGATGTTTGCAGCAAGCGCCTGTCGTGGAGAGCTTAAATGCAATGAGTAAGTTACAGAGAGGAGTGAGCTGTGCAACACACTGAGACGGTAACTA'"
   ]
  },
  {
   "cell_type": "markdown",
   "id": "e493dcbc",
   "metadata": {},
   "source": [
    "\n",
    "## Exercise 5:\n",
    "\n",
    "In exercise 4 your obtained a list of indexes where the character \"T\" occurred in the provided string.\n",
    "Check using a loop that the list you obtained is correct.\n"
   ]
  },
  {
   "cell_type": "code",
   "execution_count": null,
   "id": "e5b8f9a2",
   "metadata": {},
   "outputs": [],
   "source": []
  },
  {
   "cell_type": "markdown",
   "id": "ea26e1d4",
   "metadata": {},
   "source": [
    "\n",
    "## Exercise 6:\n",
    "\n",
    "Find *all* occurrences of the sequence \"ATCG\" in the string provided above.\n",
    "\n",
    "Hint: you need to use a nested loop (there are simpler approaches using other string methods, but do make sure you know how to write a nested loop).\n",
    "\n",
    "(Look up the Knuth–Morris–Pratt algorithm and Aho–Corasick algorithm if you want more efficient solutions. They are much harder to implement.)\n"
   ]
  },
  {
   "cell_type": "code",
   "execution_count": null,
   "id": "eaab477e",
   "metadata": {},
   "outputs": [],
   "source": []
  },
  {
   "cell_type": "markdown",
   "id": "691a4a03",
   "metadata": {},
   "source": [
    "\n",
    "## Exercise 7:\n",
    "\n",
    "Calculate the dot product of two vectors (provided as lists).\n"
   ]
  },
  {
   "cell_type": "code",
   "execution_count": null,
   "id": "166519da",
   "metadata": {},
   "outputs": [],
   "source": [
    "vec1 = [-71, 79, 45, 33, 40, -46, 28, 18, 83, -9, 29, 15, 81, 41, -23, -85, -93, 96, 63, 8, 31, 35, 81, 7, -87]\n",
    "vec2 = [24, 34, -75, -18, -80, 46, 12, 86, 26, -78, 49, -98, -61, 89, -90, 88, -71, 14, 12, 28, 65, 40, 78, -66, -61]"
   ]
  },
  {
   "cell_type": "markdown",
   "id": "f5cd1e23",
   "metadata": {},
   "source": [
    "\n",
    "## Exercise 8:\n",
    "\n",
    "Find the largest element in the following list and its position without using the function `max`.\n",
    "\n",
    "Hint: create auxiliary variables storing the position of the maximum among the elements that you have examined.\n"
   ]
  },
  {
   "cell_type": "code",
   "execution_count": null,
   "id": "4f5e24db",
   "metadata": {},
   "outputs": [],
   "source": [
    "vec = [-71, 79, 45, 33, 40, -46, 28, 18, 83, -9, 29, 15, 81, 41, -23, -85, -93, 96, 63, 8, 31, 35, 81, 7, -87]"
   ]
  }
 ],
 "metadata": {},
 "nbformat": 4,
 "nbformat_minor": 5
}
