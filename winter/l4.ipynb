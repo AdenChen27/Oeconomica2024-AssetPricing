{
 "cells": [
  {
   "cell_type": "markdown",
   "id": "f7301f88",
   "metadata": {},
   "source": [
    "# Loops\n",
    "\n",
    "Note: These notebooks are designed to quickly introduce to *programming*, not *computer science*.\n",
    "\n",
    "- You do not need to know exactly how everything works, but make sure you have a rough idea of what each line of code means.\n",
    "- Your final goal is to know how to code (with aid of the Internet).\n",
    "- You may skip over all explanation, but do run all the code.\n",
    "- The explanations are terse. If you have question, Google. If you don't, find some question to Google.\n",
    "\n",
    "Knowing how to Google and ChatGPT is vary useful, but to be a Good Googler, you'll need to know the correct vocabulary, which is displayed in **bold** in this notebook.\n",
    "\n",
    "After completing this notebook, you should:\n",
    "- understand what loops are and how to write basic `for` and `while` loops\n",
    "- understand how and when to use `continue` and `break`"
   ]
  },
  {
   "cell_type": "markdown",
   "id": "6953a2dc",
   "metadata": {},
   "source": [
    "## `for` Loop\n",
    "\n",
    "A **`for` loop** is used to iterate over a sequence (such as a list, tuple, string, or range) and perform an action for each element in the sequence.\n",
    "It’s commonly used when you know the number of iterations or when you're working with a collection of data."
   ]
  },
  {
   "cell_type": "code",
   "execution_count": null,
   "id": "c43b5b1c",
   "metadata": {},
   "outputs": [],
   "source": [
    "# Create a list of course names\n",
    "courses = [\"Economics 101\", \"Microeconomics\", \"Macroeconomics\", \"Statistics 101\"]\n",
    "\n",
    "# Using a for loop to iterate over the courses\n",
    "for course in courses:\n",
    "    print(course)"
   ]
  },
  {
   "cell_type": "markdown",
   "id": "2de0cac1",
   "metadata": {},
   "source": [
    "In this example, the **`for` loop** iterates through the `courses` list, and for each iteration, the variable `course` takes the value of the next item in the list. The loop then prints each course name.\n",
    "\n",
    "### Using the `range()` Function with `for` Loop\n",
    "\n",
    "The `range()` function generates a sequence of numbers and is often used with `for` loops when you need to perform an action a specific number of times.\n",
    "\n",
    "### Example:\n",
    "\n",
    "Let's print numbers from 1 to 5 using a `for` loop."
   ]
  },
  {
   "cell_type": "code",
   "execution_count": null,
   "id": "de2ccde0",
   "metadata": {},
   "outputs": [],
   "source": [
    "# Using range() to generate numbers from 1 to 5\n",
    "for number in range(1, 6):\n",
    "    print(number)"
   ]
  },
  {
   "cell_type": "markdown",
   "id": "1e2e88d7",
   "metadata": {},
   "source": [
    "Here, `range(1, 6)` generates the numbers 1, 2, 3, 4, and 5. The **`for` loop** iterates over these numbers and prints each one."
   ]
  },
  {
   "cell_type": "markdown",
   "id": "cd1025b8",
   "metadata": {},
   "source": [
    "## `while` Loop\n",
    "\n",
    "A **`while` loop** repeatedly executes a block of code as long as a specified condition is true. It's useful when you don't know the exact number of iterations in advance, but you have a condition that needs to be met."
   ]
  },
  {
   "cell_type": "code",
   "execution_count": null,
   "id": "87a8e1a7",
   "metadata": {},
   "outputs": [],
   "source": [
    "number = 1\n",
    "while number <= 5:\n",
    "    print(number)\n",
    "    number += 1  # Increment the number by 1"
   ]
  },
  {
   "cell_type": "markdown",
   "id": "ea671064",
   "metadata": {},
   "source": [
    "In this example, the **`while` loop** continues to execute as long as the condition `number <= 5` is true. After each iteration, we increment the `number` variable by 1 to avoid an infinite loop."
   ]
  },
  {
   "cell_type": "markdown",
   "id": "b6c06576",
   "metadata": {},
   "source": [
    "### Infinite Loop\n",
    "\n",
    "Be cautious with `while` loops, as it's easy to create an **infinite loop** if the loop condition never becomes false. For example:"
   ]
  },
  {
   "cell_type": "code",
   "execution_count": null,
   "id": "391a5e10",
   "metadata": {},
   "outputs": [],
   "source": [
    "while True:\n",
    "    print(\"This will run forever!\")"
   ]
  },
  {
   "cell_type": "markdown",
   "id": "65fc56ad",
   "metadata": {},
   "source": [
    "## Exercise 1:\n",
    "Google how to use `continue` and `break`.\n",
    "Make sure you understand the difference between the following two loops."
   ]
  },
  {
   "cell_type": "code",
   "execution_count": null,
   "id": "57901319",
   "metadata": {},
   "outputs": [],
   "source": [
    "for number in range(1, 6):\n",
    "    if number == 3:\n",
    "        break\n",
    "    print(number)\n",
    "\n",
    "for number in range(1, 6):\n",
    "    if number == 3:\n",
    "        continue\n",
    "    print(number)"
   ]
  },
  {
   "cell_type": "markdown",
   "id": "2bf19b40",
   "metadata": {},
   "source": [
    "## Exercise 2:\n",
    "Run a for loop on a dictionary. What happens? What are you looping over?"
   ]
  },
  {
   "cell_type": "code",
   "execution_count": null,
   "id": "6c61a125",
   "metadata": {},
   "outputs": [],
   "source": [
    "pass"
   ]
  },
  {
   "cell_type": "markdown",
   "id": "84e8315c",
   "metadata": {},
   "source": [
    "## Exercise 3:\n",
    "In a previous notebook, you calculated the sum of all integer multiples of 7 between 1 and 7777 using the `sum` function.\n",
    "This time do the same thing using a for loop.\n",
    "\n",
    "Hint 1: you do not need to use a list to store the relevant numbers.\n",
    "\n",
    "Hint 2: in each iteration, add to you sum one more number."
   ]
  },
  {
   "cell_type": "code",
   "execution_count": null,
   "id": "321201f2",
   "metadata": {},
   "outputs": [],
   "source": [
    "pass"
   ]
  },
  {
   "cell_type": "markdown",
   "id": "debaf782",
   "metadata": {},
   "source": [
    "Hint 3:\n",
    "your code should look something like:\n",
    "```\n",
    "sum_of_numbers = 0\n",
    "for x between 1 and 7777:\n",
    "    if x a multiple:\n",
    "        sum_of_numbers += x\n",
    "```\n",
    "the last line of which is equivalent to `sum_of_numbers = sum_of_numbers + x`."
   ]
  }
 ],
 "metadata": {},
 "nbformat": 4,
 "nbformat_minor": 5
}
