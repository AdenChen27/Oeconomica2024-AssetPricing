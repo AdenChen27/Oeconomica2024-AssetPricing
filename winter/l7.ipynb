{
 "cells": [
  {
   "cell_type": "markdown",
   "id": "17821b6d",
   "metadata": {},
   "source": [
    "\n",
    "# Pandas: Data Visualization\n"
   ]
  },
  {
   "cell_type": "markdown",
   "id": "7f9e2aa3",
   "metadata": {},
   "source": [
    "\n",
    "# Warm up\n",
    "\n",
    "Install `matplotlib` and use it to plot the following functions:\n",
    "- $f(x) = x - 1$\n",
    "- $f(x) = x^7 - x^5$\n",
    "- $f(x) = \\sin(x)$\n"
   ]
  },
  {
   "cell_type": "code",
   "execution_count": null,
   "id": "f6b73432",
   "metadata": {},
   "outputs": [],
   "source": []
  },
  {
   "cell_type": "markdown",
   "id": "bd4b5635",
   "metadata": {},
   "source": [
    "\n",
    "# Democracy of the US\n",
    "\n",
    "Load the `electoral-democracy-index.csv` file, which contains data on V-Dem's country/year-level democracy index.\n",
    "- Plot United States data over the years as a line plot.\n",
    "- Fit a polynomial of degree 4 through the data.\n",
    "- Clearly label you graph.\n"
   ]
  },
  {
   "cell_type": "code",
   "execution_count": null,
   "id": "b3e0b401",
   "metadata": {},
   "outputs": [],
   "source": []
  },
  {
   "cell_type": "markdown",
   "id": "65917938",
   "metadata": {},
   "source": [
    "\n",
    "# A Comparison\n",
    "\n",
    "Create a new graph, comparing the democracy scores of the US and the UK (plot data of both countries in the same plot).\n"
   ]
  },
  {
   "cell_type": "code",
   "execution_count": null,
   "id": "e923cb52",
   "metadata": {},
   "outputs": [],
   "source": []
  },
  {
   "cell_type": "markdown",
   "id": "d19b05b8",
   "metadata": {},
   "source": [
    "\n",
    "# Probability\n",
    "\n",
    "(Stolen from Dan Nicolae)\n",
    "\n",
    "Generate 500 samples of 2 random variables $X_1$ and $X_2$ with distribution $\\mathrm{Exponential}(1)$.\n",
    "For each of the 500 samples, calculate $\\min(X_1, X_2)$ $\\max(X_1,X_2)$, $R = \\max(X_1, X_2) − \\min(X_1,X_2)$, and $(X_1 − X_2)$.\n",
    "This should give you 500 tuples/arrays, each of them constructed using 2 independent\n",
    "draws. Create a scatter plot of $X_1 − X_2$ versus $\\min(X_1, X_2)$.\n",
    "\n",
    "Hint: use `numpy.random.exponential` to generate random variables following the exponential distribution.\n"
   ]
  },
  {
   "cell_type": "code",
   "execution_count": null,
   "id": "f1e74efa",
   "metadata": {},
   "outputs": [],
   "source": []
  },
  {
   "cell_type": "markdown",
   "id": "d217dc22",
   "metadata": {},
   "source": [
    "\n",
    "# GDP\n",
    "\n",
    "Load the `gdp-per-capita-worldbank.csv` dataset.\n",
    "Plot United States's GDP per capita using a line plot.\n",
    "\n",
    "GDP data taken from World Bank (2023) – with minor processing by Our World in Data.\n"
   ]
  },
  {
   "cell_type": "code",
   "execution_count": null,
   "id": "cd06932c",
   "metadata": {},
   "outputs": [],
   "source": []
  },
  {
   "cell_type": "markdown",
   "id": "3926b821",
   "metadata": {},
   "source": [
    "\n",
    "# Save Your Work\n",
    "\n",
    "Find a way to save your graphs. Do you graphs look blurry? Fix it.\n",
    "\n",
    "Hint: There are two approaches: (1) increase dpi, (2) store your plot as a vector image. If you want to include you plots into LaTeX files, look into `.pgf` image files.\n"
   ]
  },
  {
   "cell_type": "code",
   "execution_count": null,
   "id": "8c94a9eb",
   "metadata": {},
   "outputs": [],
   "source": []
  }
 ],
 "metadata": {},
 "nbformat": 4,
 "nbformat_minor": 5
}
