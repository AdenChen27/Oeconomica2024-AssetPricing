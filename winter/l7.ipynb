{
 "cells": [
  {
   "cell_type": "markdown",
   "id": "b7bf51ce",
   "metadata": {},
   "source": [
    "\n",
    "# Pandas: Data Visualization\n"
   ]
  },
  {
   "cell_type": "code",
   "execution_count": null,
   "id": "eb28a21e",
   "metadata": {},
   "outputs": [],
   "source": [
    "import pandas as pd\n",
    "import numpy as np"
   ]
  },
  {
   "cell_type": "markdown",
   "id": "d1c9ab81",
   "metadata": {},
   "source": [
    "\n",
    "# Warm up\n",
    "\n",
    "Install `matplotlib` and use it to plot the following functions:\n",
    "- $f(x) = x - 1$\n",
    "- $f(x) = x^7 - x^5$\n",
    "- $f(x) = \\sin(x)$\n"
   ]
  },
  {
   "cell_type": "code",
   "execution_count": null,
   "id": "89a370a3",
   "metadata": {},
   "outputs": [],
   "source": []
  },
  {
   "cell_type": "markdown",
   "id": "dd6483b7",
   "metadata": {},
   "source": [
    "\n",
    "# Democracy of the US\n",
    "\n",
    "Load the [`datasets/electoral-democracy-index.csv`](https://ourworldindata.org/democracy) file, which contains data on V-Dem's country/year-level democracy index.\n",
    "- Plot United States data over the years as a line plot.\n",
    "- Fit a polynomial of degree 4 through the data.\n",
    "- Clearly label you graph.\n"
   ]
  },
  {
   "cell_type": "code",
   "execution_count": null,
   "id": "b227999d",
   "metadata": {},
   "outputs": [],
   "source": []
  },
  {
   "cell_type": "markdown",
   "id": "19ac4e09",
   "metadata": {},
   "source": [
    "\n",
    "# A Comparison\n",
    "\n",
    "Create a new graph, comparing the democracy scores of the US and the UK (plot data of both countries in the same plot).\n"
   ]
  },
  {
   "cell_type": "code",
   "execution_count": null,
   "id": "c2c6513d",
   "metadata": {},
   "outputs": [],
   "source": []
  },
  {
   "cell_type": "markdown",
   "id": "2d153c74",
   "metadata": {},
   "source": [
    "\n",
    "# Probability\n",
    "\n",
    "(Stolen from Dan Nicolae)\n",
    "\n",
    "Generate 500 samples of 2 random variables $X_1$ and $X_2$ with distribution $\\mathrm{Exponential}(1)$.\n",
    "For each of the 500 samples, calculate $\\min(X_1, X_2)$ $\\max(X_1,X_2)$, $R = \\max(X_1, X_2) − \\min(X_1,X_2)$, and $(X_1 − X_2)$.\n",
    "This should give you 500 tuples/arrays, each of them constructed using 2 independent\n",
    "draws. Create a scatter plot of $X_1 − X_2$ versus $\\min(X_1, X_2)$.\n",
    "\n",
    "Hint: use `numpy.random.exponential` to generate random variables following the exponential distribution.\n"
   ]
  },
  {
   "cell_type": "code",
   "execution_count": null,
   "id": "095f3d04",
   "metadata": {},
   "outputs": [],
   "source": []
  },
  {
   "cell_type": "markdown",
   "id": "b6e32c13",
   "metadata": {},
   "source": [
    "\n",
    "# GDP\n",
    "\n",
    "Load the [`datasets/gdp-per-capita-worldbank.csv`](https://ourworldindata.org/grapher/gdp-per-capita-worldbank) dataset.\n",
    "Plot United States's GDP per capita using a line plot.\n"
   ]
  },
  {
   "cell_type": "code",
   "execution_count": null,
   "id": "e183046a",
   "metadata": {},
   "outputs": [],
   "source": []
  },
  {
   "cell_type": "markdown",
   "id": "c1b7e645",
   "metadata": {},
   "source": [
    "\n",
    "# Democratic Backslash, revisited\n",
    "\n",
    "Load the [`datasets/electoral-democracy-index.csv`](https://ourworldindata.org/democracy) and [`datasets/population.csv`](https://ourworldindata.org/population-growth) datasets.\n",
    "For each year (with sufficient data), calculate a population weighted global democracy index.\n",
    "Plot your data.\n",
    "What trend do you see? \n"
   ]
  },
  {
   "cell_type": "code",
   "execution_count": null,
   "id": "fd7e0a9b",
   "metadata": {},
   "outputs": [],
   "source": [
    "df = pd.read_csv(\"datasets/electoral-democracy-index.csv\")\n",
    "df = df.rename(columns = {\n",
    "    'Electoral democracy index (best estimate, aggregate: average)': \"Democracy\"\n",
    "})\n",
    "popdf = pd.read_csv(\"datasets/population.csv\")\n",
    "popdf = popdf.rename(columns = {\n",
    "    'Population - Sex: all - Age: all - Variant: estimates': \"Population\"\n",
    "})"
   ]
  },
  {
   "cell_type": "markdown",
   "id": "a8be4d1a",
   "metadata": {},
   "source": [
    "\n",
    "# Save Your Work\n",
    "\n",
    "Find a way to save your graphs. Do you graphs look blurry? Fix it.\n",
    "\n",
    "Hint: There are two approaches: (1) increase dpi, (2) store your plot as a vector image. If you want to include you plots into LaTeX files, look into `.pgf` image files.\n"
   ]
  },
  {
   "cell_type": "code",
   "execution_count": null,
   "id": "46e8f808",
   "metadata": {},
   "outputs": [],
   "source": []
  }
 ],
 "metadata": {},
 "nbformat": 4,
 "nbformat_minor": 5
}
