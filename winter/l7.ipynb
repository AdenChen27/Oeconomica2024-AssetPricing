{
 "cells": [
  {
   "cell_type": "markdown",
   "id": "1fd65d01",
   "metadata": {},
   "source": [
    "# Pandas: Data Visualization"
   ]
  },
  {
   "cell_type": "markdown",
   "id": "48c7118e",
   "metadata": {},
   "source": [
    "# Task 1: Warm up\n",
    "\n",
    "Install `matplotlib` and use it to plot the following functions:\n",
    "- f(x) = x - 1\n",
    "- f(x) = x^7 - x^5\n",
    "- f(x) = sin(x)"
   ]
  },
  {
   "cell_type": "code",
   "execution_count": null,
   "id": "5ba939a0",
   "metadata": {},
   "outputs": [],
   "source": [
    "pass"
   ]
  },
  {
   "cell_type": "markdown",
   "id": "570042b8",
   "metadata": {},
   "source": [
    "# Task 2: Democracy\n",
    "\n",
    "Load the `electoral-democracy-index.csv` file, which contains data on V-Dem's country/year-level democracy index.\n",
    "- Plot United States data over the years as a line plot.\n",
    "- Fit a polynomial of degree 4 through the data.\n",
    "- Clearly label you graph."
   ]
  },
  {
   "cell_type": "code",
   "execution_count": null,
   "id": "dad75ab0",
   "metadata": {},
   "outputs": [],
   "source": [
    "pass"
   ]
  }
 ],
 "metadata": {},
 "nbformat": 4,
 "nbformat_minor": 5
}
