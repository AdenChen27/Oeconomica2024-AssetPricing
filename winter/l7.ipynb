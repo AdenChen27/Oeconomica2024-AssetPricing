{
 "cells": [
  {
   "cell_type": "markdown",
   "id": "7a07622e",
   "metadata": {},
   "source": [
    "# Pandas: Data Visualization"
   ]
  },
  {
   "cell_type": "markdown",
   "id": "bdc042af",
   "metadata": {},
   "source": [
    "# Task 1: Warm up\n",
    "\n",
    "Install `matplotlib` and use it to plot the following functions:\n",
    "- $f(x) = x - 1$\n",
    "- $f(x) = x^7 - x^5$\n",
    "- $f(x) = \\sin(x)$"
   ]
  },
  {
   "cell_type": "code",
   "execution_count": null,
   "id": "1389656b",
   "metadata": {},
   "outputs": [],
   "source": [
    "pass"
   ]
  },
  {
   "cell_type": "markdown",
   "id": "fba76193",
   "metadata": {},
   "source": [
    "# Task 2: Democracy of the US\n",
    "\n",
    "Load the `electoral-democracy-index.csv` file, which contains data on V-Dem's country/year-level democracy index.\n",
    "- Plot United States data over the years as a line plot.\n",
    "- Fit a polynomial of degree 4 through the data.\n",
    "- Clearly label you graph."
   ]
  },
  {
   "cell_type": "code",
   "execution_count": null,
   "id": "7fd7f3ca",
   "metadata": {},
   "outputs": [],
   "source": [
    "pass"
   ]
  },
  {
   "cell_type": "markdown",
   "id": "04e201d1",
   "metadata": {},
   "source": [
    "# Task 3: A Comparison\n",
    "\n",
    "Create a new graph, comparing the democracy scores of the US and the UK (plot data of both countries in the same plot)."
   ]
  },
  {
   "cell_type": "code",
   "execution_count": null,
   "id": "9417dde6",
   "metadata": {},
   "outputs": [],
   "source": [
    "pass"
   ]
  },
  {
   "cell_type": "markdown",
   "id": "debcbfb6",
   "metadata": {},
   "source": [
    "# Task 4: Probability\n",
    "\n",
    "(Stolen from Dan Nicolae)\n",
    "\n",
    "Generate 500 samples of 2 random variables $X_1$ and $X_2$ with distribution $\\mathrm{Exponential}(1)$.\n",
    "For each of the 500 samples, calculate $\\min(X_1, X_2)$ $\\max(X_1,X_2)$, $R = \\max(X_1, X_2) − \\min(X_1,X_2)$, and $(X_1 − X_2)$.\n",
    "This should give you 500 tuples/arrays, each of them constructed using 2 independent\n",
    "draws. Create a scatter plot of $X_1 − X_2$ versus $\\min(X_1, X_2)$.\n",
    "\n",
    "Hint: use `numpy.random.exponential` to generate random variables following the exponential distribution."
   ]
  },
  {
   "cell_type": "code",
   "execution_count": null,
   "id": "783322be",
   "metadata": {},
   "outputs": [],
   "source": [
    "pass"
   ]
  },
  {
   "cell_type": "markdown",
   "id": "60ea420e",
   "metadata": {},
   "source": [
    "# Task 5: GDP\n",
    "\n",
    "Load the `gdp-per-capita-worldbank.csv` dataset.\n",
    "Plot United States's GDP per capita using a line plot.\n",
    "\n",
    "GDP data taken from World Bank (2023) – with minor processing by Our World in Data."
   ]
  },
  {
   "cell_type": "code",
   "execution_count": null,
   "id": "1af3dbb6",
   "metadata": {},
   "outputs": [],
   "source": [
    "pass"
   ]
  },
  {
   "cell_type": "markdown",
   "id": "84c31605",
   "metadata": {},
   "source": [
    "# Task 6: Save Your Work\n",
    "\n",
    "Find a way to save your graphs. Do you graphs look blurry? Fix it.\n",
    "\n",
    "Hint: There are two approaches: (1) increase dpi, (2) store your plot as a vector image. If you want to include you plots into LaTeX files, look into `.pgf` image files."
   ]
  },
  {
   "cell_type": "code",
   "execution_count": null,
   "id": "ceab84db",
   "metadata": {},
   "outputs": [],
   "source": [
    "pass"
   ]
  }
 ],
 "metadata": {},
 "nbformat": 4,
 "nbformat_minor": 5
}
