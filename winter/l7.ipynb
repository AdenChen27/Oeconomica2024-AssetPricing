{
 "cells": [
  {
   "cell_type": "markdown",
   "id": "c6ae4937",
   "metadata": {},
   "source": [
    "# Pandas: Data Visualization"
   ]
  },
  {
   "cell_type": "markdown",
   "id": "62436bf8",
   "metadata": {},
   "source": [
    "# Task 1: Warm up\n",
    "\n",
    "Install `matplotlib` and use it to plot the following functions:\n",
    "- f(x) = x - 1\n",
    "- f(x) = x^7 - x^5\n",
    "- f(x) = sin(x)"
   ]
  },
  {
   "cell_type": "code",
   "execution_count": null,
   "id": "d113c2af",
   "metadata": {},
   "outputs": [],
   "source": [
    "pass"
   ]
  },
  {
   "cell_type": "markdown",
   "id": "21b982db",
   "metadata": {},
   "source": [
    "# Task 2: Democracy of the US\n",
    "\n",
    "Load the `electoral-democracy-index.csv` file, which contains data on V-Dem's country/year-level democracy index.\n",
    "- Plot United States data over the years as a line plot.\n",
    "- Fit a polynomial of degree 4 through the data.\n",
    "- Clearly label you graph."
   ]
  },
  {
   "cell_type": "code",
   "execution_count": null,
   "id": "4caa4b0c",
   "metadata": {},
   "outputs": [],
   "source": [
    "pass"
   ]
  },
  {
   "cell_type": "markdown",
   "id": "80e3e924",
   "metadata": {},
   "source": [
    "# Task 3: A Comparison\n",
    "\n",
    "- Create a new graph, comparing the democracy scores of the US and the UK (plot data of both countries in the same plot)."
   ]
  },
  {
   "cell_type": "code",
   "execution_count": null,
   "id": "b6ca6e76",
   "metadata": {},
   "outputs": [],
   "source": [
    "pass"
   ]
  },
  {
   "cell_type": "markdown",
   "id": "1b66483f",
   "metadata": {},
   "source": [
    "# Task 4: Save\n",
    "\n",
    "- Find a way to save your graphs. Does you graph look blurry? Fix it."
   ]
  },
  {
   "cell_type": "code",
   "execution_count": null,
   "id": "0971892e",
   "metadata": {},
   "outputs": [],
   "source": [
    "pass"
   ]
  }
 ],
 "metadata": {},
 "nbformat": 4,
 "nbformat_minor": 5
}
