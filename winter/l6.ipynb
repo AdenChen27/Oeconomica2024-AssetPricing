{
 "cells": [
  {
   "cell_type": "markdown",
   "id": "40f5a784",
   "metadata": {},
   "source": [
    "\n",
    "# Pandas: Data Manipulation\n",
    "\n",
    "Starting from this notebook, there will be a lot less explanation.\n",
    "Instead, you will be given a sequence of tasks, and you will Google you way through these tasks.\n",
    "\n",
    "Hint 1: start by googling the terms in **bold**.\n",
    "\n",
    "Hint 2: the official [pandas documentation](https://pandas.pydata.org/docs/) should be your friend.\n"
   ]
  },
  {
   "cell_type": "markdown",
   "id": "36a87dfc",
   "metadata": {},
   "source": [
    "\n",
    "# csv\n",
    "- Find out what a **.csv** file is.\n",
    "- Open the csv file `datasets/salary-data.csv` using a **text editor** of your choice.\n",
    "- **Load/Read** the csv file about using pandas into a DataFrame called `df` (hint: use the **`pd.read_csv`** function. Do you need the `header` argument?)\n"
   ]
  },
  {
   "cell_type": "code",
   "execution_count": null,
   "id": "be90d7e2",
   "metadata": {},
   "outputs": [],
   "source": [
    "import pandas as pd\n",
    "import numpy as np"
   ]
  },
  {
   "cell_type": "markdown",
   "id": "142f5a50",
   "metadata": {},
   "source": [
    "\n",
    "Inspect the csv file in the notebook by running the following code.\n"
   ]
  },
  {
   "cell_type": "code",
   "execution_count": null,
   "id": "b716f313",
   "metadata": {},
   "outputs": [],
   "source": [
    "df"
   ]
  },
  {
   "cell_type": "markdown",
   "id": "5d427ebc",
   "metadata": {},
   "source": [
    "\n",
    "# DataFrame Indexing\n",
    "- Find out what a DataFrame is and how it is different from a list or tuple.\n",
    "- Learn how to **index** a DataFrame.\n",
    "\n",
    "To practice you indexing skills, do the following:\n",
    "- Find the row of the DataFrame corresponding to Charlie's data.\n",
    "- Find the salary column of the DataFrame.\n",
    "- Obtain a sub-DataFrame that contains only the second and third row in the original DataFrame.\n",
    "- Obtain a sub-DataFrame that contains only data on Alice, Bob, and Charlie.\n",
    "- Obtain a sub-DataFrame that contains only data on Alice, Bob, and Charlie, and with only the name, age, and salary columns.\n",
    "- Obtain a sub-DataFrame that contains data on all persons with age >= 30.\n",
    "- Obtain a sub-DataFrame that contains data on all persons with age >= 30 and in the Engineering department.\n"
   ]
  },
  {
   "cell_type": "code",
   "execution_count": null,
   "id": "c213bd38",
   "metadata": {},
   "outputs": [],
   "source": []
  },
  {
   "cell_type": "markdown",
   "id": "0a27fce1",
   "metadata": {},
   "source": [
    "\n",
    "## Vectors\n",
    "\n",
    "The number-valued columns in `df` can be treated as vectors.\n",
    "Try the following examples on the simple DataFrame `df2`:\n"
   ]
  },
  {
   "cell_type": "code",
   "execution_count": null,
   "id": "60f809ef",
   "metadata": {},
   "outputs": [],
   "source": [
    "df2 = pd.DataFrame(np.array([[1, 2, 3], [4, 5, 6], [7, 8, 9]]), columns=['a', 'b', 'c'])\n",
    "df2"
   ]
  },
  {
   "cell_type": "markdown",
   "id": "2c69a73e",
   "metadata": {},
   "source": [
    "\n",
    "You may add columns as vectors:\n"
   ]
  },
  {
   "cell_type": "code",
   "execution_count": null,
   "id": "dc0bb4d9",
   "metadata": {},
   "outputs": [],
   "source": [
    "print(df2['a'] + df2['b'])\n",
    "print(df2['b'] + df2['c'])"
   ]
  },
  {
   "cell_type": "markdown",
   "id": "1ba33ef1",
   "metadata": {},
   "source": [
    "\n",
    "You may add a scalar to each term of the vector:\n"
   ]
  },
  {
   "cell_type": "code",
   "execution_count": null,
   "id": "fbadfb76",
   "metadata": {},
   "outputs": [],
   "source": [
    "print(df2['b'] + 10)"
   ]
  },
  {
   "cell_type": "markdown",
   "id": "6ca1d551",
   "metadata": {},
   "source": [
    "\n",
    "You may multiple a vector by a scalar:\n"
   ]
  },
  {
   "cell_type": "code",
   "execution_count": null,
   "id": "2fcdb6d2",
   "metadata": {},
   "outputs": [],
   "source": [
    "print(10 * df2['a'])\n",
    "print(11 * df2['c'])"
   ]
  },
  {
   "cell_type": "markdown",
   "id": "9bffafe1",
   "metadata": {},
   "source": [
    "\n",
    "`np.array` is basically the same:\n"
   ]
  },
  {
   "cell_type": "code",
   "execution_count": null,
   "id": "2f3f48e7",
   "metadata": {},
   "outputs": [],
   "source": [
    "A = np.array([1, 2, 3])\n",
    "B = np.array([4, 5, 6])\n",
    "print(A + B)\n",
    "print(A + 3)\n",
    "print(3 * A)"
   ]
  },
  {
   "cell_type": "markdown",
   "id": "7cfaadc6",
   "metadata": {},
   "source": [
    "\n",
    "Boom! You now know also `numpy`. (Basically.)\n"
   ]
  },
  {
   "cell_type": "markdown",
   "id": "b7fbf920",
   "metadata": {},
   "source": [
    "\n",
    "# Data Manipulation\n",
    "\n",
    "Create a new column \"remaining lifetime income\", with value `salary * (80 - age)`, using all three methods below:\n",
    "- Treat each column as a vector. Then the \"remaining lifetime income\" (as a vector) is just `salary * (80 - age)` (each variable interpreted as a vector).\n",
    "- Use a `for` loop with `iterrows`; for a hint, see the next problem (\"Guess\"). \n",
    "- Use the DataFrame `apply` method. You might want to recall how you can define a function.\n"
   ]
  },
  {
   "cell_type": "code",
   "execution_count": null,
   "id": "9639e9aa",
   "metadata": {},
   "outputs": [],
   "source": []
  },
  {
   "cell_type": "markdown",
   "id": "ce06ae52",
   "metadata": {},
   "source": [
    "\n",
    "## Guess\n",
    "\n",
    "Guess what the following code snippet does:\n"
   ]
  },
  {
   "cell_type": "code",
   "execution_count": null,
   "id": "3d0745f8",
   "metadata": {},
   "outputs": [],
   "source": [
    "...\n",
    "for i, row in benchmark.iterrows():\n",
    "    benchmark.at[i, \"model-prediction\"] = classifier.classify_case(row[\"dir\"])\n",
    "\n",
    "print((benchmark[\"human-labeled-outcome\"] == benchmark[\"model-prediction\"]).sum() / len(benchmark))\n",
    "..."
   ]
  },
  {
   "cell_type": "markdown",
   "id": "71f2e4c6",
   "metadata": {},
   "source": [
    "\n",
    "# Democracy\n",
    "\n",
    "Some claim that a global democratic decline has been happening over the past few decades.\n",
    "We evaluate this claim using V-Dem's democracy index.\n",
    "\n",
    "First, load the [`datasets/electoral-democracy-index.csv`](https://ourworldindata.org/democracy) file, which contains data on V-Dem's country/year-level democracy index. Use the [`head`](https://pandas.pydata.org/docs/reference/api/pandas.DataFrame.head.html) and [`tail`](https://pandas.pydata.org/docs/reference/api/pandas.DataFrame.tail.html) functions to inspect the first and last few entries of the DataFrame.\n",
    "\n",
    "- Rename the column containing the democracy indices to something simpler.\n",
    "- Locate the data for United States. Find the average democracy score for united states in the 18th, 19th, 20th, and 21th centuries. Compare them.\n",
    "- In what year did the US achieve its highest democracy score? The lowest? (Hint: use the [`DataFrame.sorrt_values`](https://pandas.pydata.org/docs/reference/api/pandas.DataFrame.sort_values.html) function.)\n"
   ]
  },
  {
   "cell_type": "code",
   "execution_count": null,
   "id": "18ca2fe5",
   "metadata": {},
   "outputs": [],
   "source": []
  },
  {
   "cell_type": "markdown",
   "id": "756f7290",
   "metadata": {},
   "source": [
    "\n",
    "## Democratic Backsliding: Measurement\n",
    "\n",
    "We aim to calculate a \"backsliding score\" for each country in the DataFrame.\n",
    "\n",
    "First, come up with a measure of democratic backsliding in the past 10 to 20 years (to be concrete, say from year 2010 to 2020). This should be a function that takes in the past 10 years of democracy scores for a given country and outputs a single score representing the extent of democratic backsliding for that country. Think of what you might want in such a measure, and start simple.\n",
    "\n",
    "Next, use the DataFrame above, which contains democracy score for each country/year, to produce a DataFrame that contains a \"backsliding\" index for each country. That is, for each country you are aggregating the democracy indexes over the years to one single backsliding index. After this step, you should have a DataFrame that looks something like:\n",
    "\n",
    "```\n",
    "Country 1 | backsliding score 1\n",
    "Country 2 | backsliding score 2\n",
    "Country 3 | backsliding score 3\n",
    "...\n",
    "```\n",
    "\n",
    "You can follow the template below:\n",
    "```python\n",
    "countries = [a list of countries]\n",
    "backsliding_score = {}\n",
    "for country in countries:\n",
    "    [check if you have enough data to calculate a score; is not, skip this country]\n",
    "    democracy_scores = [the last 10 years of democracy scores for `country`]\n",
    "    [calculate a backsliding score using your function]\n",
    "    backsliding_score[country] = [the backsliding score]\n",
    "```\n",
    "After running this you will obtain the backsliding scores for each country stored in the dictionary `backsliding_score`.\n",
    "You can turn the dictionary (for ease of analysis) into a DataFrame using something like:\n",
    "```python\n",
    "pd.DataFrame(backsliding_score, index=[\"Democracy\"])\n",
    "backsliding_df = backsliding_df.transpose()\n",
    "```\n",
    "(Why `transpose`?)\n",
    "\n",
    "Hint:\n",
    "- You might want to use the [`unique`](https://pandas.pydata.org/docs/reference/api/pandas.unique.html) function to obtain a list of countries.\n",
    "- If you encounter missing data for just a few countries, just ignore those countries.\n",
    "- I check the examples in [`DataFrame`](https://pandas.pydata.org/docs/reference/api/pandas.DataFrame.html) for syntax whenever I want to turn something into a DataFrame.\n"
   ]
  },
  {
   "cell_type": "code",
   "execution_count": null,
   "id": "bc2f85ae",
   "metadata": {},
   "outputs": [],
   "source": []
  },
  {
   "cell_type": "markdown",
   "id": "fb7130e9",
   "metadata": {},
   "source": [
    "\n",
    "Now, find the countries with the highest democratic backsliding scores.\n"
   ]
  },
  {
   "cell_type": "code",
   "execution_count": null,
   "id": "1266235d",
   "metadata": {},
   "outputs": [],
   "source": []
  },
  {
   "cell_type": "markdown",
   "id": "08e9bdb4",
   "metadata": {},
   "source": [
    "\n",
    "## Democratic Backsliding: Analysis\n",
    "\n",
    "Democratic backsliding is obviously occurring in *some* countries. But do we have evidence that a *global* democratic backsliding is also happening?\n",
    "You may test this by looking at the average of the \"backsliding\" score (which you created in the previous task), but this gives each country the same weight (the experience of citizens living in smaller countries are then arguably over-weighted).\n",
    "One way to get a global \"backsliding\" score is to weight each country by its population.\n",
    "This will weight the experience of citizen in each country equally.\n",
    "\n",
    "Follow the steps below:\n",
    "- Load [`datasets/population.csv`](https://ourworldindata.org/population-growth), which contains data on population data at the country-year level.\n",
    "- Note that almost all country in this DataFrame matches that in the democracy index DataFrame. This is convenient for us. If the country names does not match (e.g. \"USA\" in one and \"US\" in another), we will have to rename the columns so that they match.\n",
    "- Merge the two datasets so you have the population and democracy index data in the same DataFrame. (The `datasets/population.csv` dataset contains population data for each year. For simplicity, let's just use the population in the year 2020 in our analysis.)\n",
    "\n",
    "    Hint: Use [`DataFrame.join`](https://pandas.pydata.org/docs/reference/api/pandas.DataFrame.join.html). You might have to change the indexes of one of the DataFrames so that both DataFrames have matching indexes.\n",
    "\n",
    "- Calculate a population-weighted \"backsliding\" score for the past 10 years. Do we have evidence for global democratic backsliding?\n"
   ]
  },
  {
   "cell_type": "code",
   "execution_count": null,
   "id": "0295dd86",
   "metadata": {},
   "outputs": [],
   "source": []
  },
  {
   "cell_type": "markdown",
   "id": "12a3669b",
   "metadata": {},
   "source": [
    "\n",
    "Assuming V-Dem's democracy index perfectly reflects the level of democracy, what else might go wrong in our analysis?\n"
   ]
  },
  {
   "cell_type": "markdown",
   "id": "7e79c994",
   "metadata": {},
   "source": [
    "\n",
    "We will conduct a more rigorous analysis using regression.\n"
   ]
  }
 ],
 "metadata": {},
 "nbformat": 4,
 "nbformat_minor": 5
}
