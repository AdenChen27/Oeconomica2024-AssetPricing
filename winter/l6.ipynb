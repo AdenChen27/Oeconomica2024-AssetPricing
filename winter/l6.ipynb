{
 "cells": [
  {
   "cell_type": "markdown",
   "id": "de1f1cd4",
   "metadata": {},
   "source": [
    "# Pandas\n",
    "\n",
    "Starting from this notebook, there will be a lot less explanation.\n",
    "Instead, you will be given a sequence of tasks, and you will Google you way through these tasks.\n",
    "(Hint: start by googling the terms in **bold**.)\n",
    "(Hint 2: the official pandas documentation should be your fwend.)"
   ]
  },
  {
   "cell_type": "markdown",
   "id": "271273a8",
   "metadata": {},
   "source": [
    "# Task 1:\n",
    "- Go find out what a **.csv** file is.\n",
    "- Open the csv file `salary-data.csv` using a **text editor** of your choice.\n",
    "- **Load/Read** the csv file about using pandas into a DataFrame called `df` (hint: use the **`pd.read_csv`** function. Pay attention to the `header` argument.)"
   ]
  },
  {
   "cell_type": "code",
   "execution_count": null,
   "id": "ab230ea4",
   "metadata": {},
   "outputs": [],
   "source": [
    "import pandas as pd"
   ]
  },
  {
   "cell_type": "markdown",
   "id": "f5cf60ae",
   "metadata": {},
   "source": [
    "# Task 2:\n",
    "- Inspect the csv file in the notebook by running the following code."
   ]
  },
  {
   "cell_type": "code",
   "execution_count": null,
   "id": "a1396dd6",
   "metadata": {},
   "outputs": [],
   "source": [
    "df"
   ]
  },
  {
   "cell_type": "markdown",
   "id": "7f12ced0",
   "metadata": {},
   "source": [
    "# Task 3: Indexing\n",
    "- Find out what a DataFrame is and how it is different from a list or tuple.\n",
    "- Learn how to index a DataFrame.\n",
    "\n",
    "To practice you indexing skills, do the following:\n",
    "- Find the row of the DataFrame corresponding to Charlie's data.\n",
    "- Find the salary column of the DataFrame.\n",
    "- Obtain a sub-DataFrame that contains only data on Alice, Bob, and Charlie.\n",
    "- Obtain a sub-DataFrame that contains only data on Alice, Bob, and Charlie, and with only the name, age, and salary columns.\n",
    "- Obtain a sub-DataFrame that contains data on all persons with age >= 30.\n",
    "- Obtain a sub-DataFrame that contains data on all persons with age >= 30 and in the Engineering department."
   ]
  },
  {
   "cell_type": "code",
   "execution_count": null,
   "id": "a63145e0",
   "metadata": {},
   "outputs": [],
   "source": [
    "pass"
   ]
  },
  {
   "cell_type": "markdown",
   "id": "f115c05d",
   "metadata": {},
   "source": [
    "# Task 4: Data Manipulation\n",
    "\n",
    "- Create a new column \"remaining income\", with value `salary * (80 - age)`\n",
    "- Do the above using two methods: (1) use a for loop with iterrows; (2) use the DataFrame `apply` method. Make sure you understand both methods."
   ]
  },
  {
   "cell_type": "code",
   "execution_count": null,
   "id": "a7930030",
   "metadata": {},
   "outputs": [],
   "source": [
    "pass"
   ]
  }
 ],
 "metadata": {},
 "nbformat": 4,
 "nbformat_minor": 5
}
