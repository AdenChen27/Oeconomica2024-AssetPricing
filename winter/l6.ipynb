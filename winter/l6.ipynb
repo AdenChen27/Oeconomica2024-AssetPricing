{
 "cells": [
  {
   "cell_type": "markdown",
   "id": "aa7163f2",
   "metadata": {},
   "source": [
    "# Pandas: Data Manipulation\n",
    "\n",
    "Starting from this notebook, there will be a lot less explanation.\n",
    "Instead, you will be given a sequence of tasks, and you will Google you way through these tasks.\n",
    "(Hint: start by googling the terms in **bold**.)\n",
    "(Hint 2: the official pandas documentation should be your fwend.)"
   ]
  },
  {
   "cell_type": "markdown",
   "id": "0f690473",
   "metadata": {},
   "source": [
    "# Task 1:\n",
    "- Go find out what a **.csv** file is.\n",
    "- Open the csv file `salary-data.csv` using a **text editor** of your choice.\n",
    "- **Load/Read** the csv file about using pandas into a DataFrame called `df` (hint: use the **`pd.read_csv`** function. Pay attention to the `header` argument.)"
   ]
  },
  {
   "cell_type": "code",
   "execution_count": null,
   "id": "f192791b",
   "metadata": {},
   "outputs": [],
   "source": [
    "import pandas as pd"
   ]
  },
  {
   "cell_type": "markdown",
   "id": "2ab9c66d",
   "metadata": {},
   "source": [
    "# Task 2:\n",
    "- Inspect the csv file in the notebook by running the following code."
   ]
  },
  {
   "cell_type": "code",
   "execution_count": null,
   "id": "b32e4001",
   "metadata": {},
   "outputs": [],
   "source": [
    "df"
   ]
  },
  {
   "cell_type": "markdown",
   "id": "b1a8b4f1",
   "metadata": {},
   "source": [
    "# Task 3: Indexing\n",
    "- Find out what a DataFrame is and how it is different from a list or tuple.\n",
    "- Learn how to **index** a DataFrame.\n",
    "\n",
    "To practice you indexing skills, do the following:\n",
    "- Find the row of the DataFrame corresponding to Charlie's data.\n",
    "- Find the salary column of the DataFrame.\n",
    "- Obtain a sub-DataFrame that contains only data on Alice, Bob, and Charlie.\n",
    "- Obtain a sub-DataFrame that contains only data on Alice, Bob, and Charlie, and with only the name, age, and salary columns.\n",
    "- Obtain a sub-DataFrame that contains data on all persons with age >= 30.\n",
    "- Obtain a sub-DataFrame that contains data on all persons with age >= 30 and in the Engineering department."
   ]
  },
  {
   "cell_type": "code",
   "execution_count": null,
   "id": "093f9758",
   "metadata": {},
   "outputs": [],
   "source": [
    "pass"
   ]
  },
  {
   "cell_type": "markdown",
   "id": "e317f9e5",
   "metadata": {},
   "source": [
    "# Task 4: Data Manipulation\n",
    "\n",
    "- Create a new column \"remaining income\", with value `salary * (80 - age)`\n",
    "- Do the above using two methods: (1) use a for loop with iterrows; for a hint, see Task 5. (2) use the DataFrame `apply` method. Make sure you understand both methods."
   ]
  },
  {
   "cell_type": "code",
   "execution_count": null,
   "id": "fc55eec7",
   "metadata": {},
   "outputs": [],
   "source": [
    "pass"
   ]
  },
  {
   "cell_type": "markdown",
   "id": "434a25f9",
   "metadata": {},
   "source": [
    "# Task 5: \n",
    "\n",
    "Guess what the following code snippet does:"
   ]
  },
  {
   "cell_type": "code",
   "execution_count": null,
   "id": "9a795a76",
   "metadata": {},
   "outputs": [],
   "source": [
    "for i, row in benchmark.iterrows():\n",
    "    benchmark.at[i, \"model-prediction\"] = classifier.classify_case(row[\"dir\"])\n",
    "\n",
    "print((benchmark[\"human-labeled-outcome\"] == benchmark[\"model-prediction\"]).sum() / len(benchmark))"
   ]
  },
  {
   "cell_type": "markdown",
   "id": "5e0e3454",
   "metadata": {},
   "source": [
    "# Task 6: Real Data\n",
    "\n",
    "Load the `electoral-democracy-index.csv` file, which contains data on V-Dem's country/year-level democracy index.\n",
    "\n",
    "Locate the data for United States. Find the average democracy score for united states in the 18th, 19th, 20th, and 21th centuries.\n",
    "Compare them."
   ]
  },
  {
   "cell_type": "code",
   "execution_count": null,
   "id": "f6cd1a89",
   "metadata": {},
   "outputs": [],
   "source": [
    "pass"
   ]
  }
 ],
 "metadata": {},
 "nbformat": 4,
 "nbformat_minor": 5
}
