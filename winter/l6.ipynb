{
 "cells": [
  {
   "cell_type": "markdown",
   "id": "516e8075",
   "metadata": {},
   "source": [
    "# Pandas: Data Manipulation\n",
    "\n",
    "Starting from this notebook, there will be a lot less explanation.\n",
    "Instead, you will be given a sequence of tasks, and you will Google you way through these tasks.\n",
    "(Hint: start by googling the terms in **bold**.)\n",
    "(Hint 2: the official pandas documentation should be your fwend.)"
   ]
  },
  {
   "cell_type": "markdown",
   "id": "3dadd4e2",
   "metadata": {},
   "source": [
    "# Task 1:\n",
    "- Go find out what a **.csv** file is.\n",
    "- Open the csv file `salary-data.csv` using a **text editor** of your choice.\n",
    "- **Load/Read** the csv file about using pandas into a DataFrame called `df` (hint: use the **`pd.read_csv`** function. Pay attention to the `header` argument.)"
   ]
  },
  {
   "cell_type": "code",
   "execution_count": null,
   "id": "41f2c66f",
   "metadata": {},
   "outputs": [],
   "source": [
    "import pandas as pd"
   ]
  },
  {
   "cell_type": "markdown",
   "id": "ad123789",
   "metadata": {},
   "source": [
    "# Task 2:\n",
    "- Inspect the csv file in the notebook by running the following code."
   ]
  },
  {
   "cell_type": "code",
   "execution_count": null,
   "id": "4613eda1",
   "metadata": {},
   "outputs": [],
   "source": [
    "df"
   ]
  },
  {
   "cell_type": "markdown",
   "id": "a675b0e2",
   "metadata": {},
   "source": [
    "# Task 3: Indexing\n",
    "- Find out what a DataFrame is and how it is different from a list or tuple.\n",
    "- Learn how to **index** a DataFrame.\n",
    "\n",
    "To practice you indexing skills, do the following:\n",
    "- Find the row of the DataFrame corresponding to Charlie's data.\n",
    "- Find the salary column of the DataFrame.\n",
    "- Obtain a sub-DataFrame that contains only data on Alice, Bob, and Charlie.\n",
    "- Obtain a sub-DataFrame that contains only data on Alice, Bob, and Charlie, and with only the name, age, and salary columns.\n",
    "- Obtain a sub-DataFrame that contains data on all persons with age >= 30.\n",
    "- Obtain a sub-DataFrame that contains data on all persons with age >= 30 and in the Engineering department."
   ]
  },
  {
   "cell_type": "code",
   "execution_count": null,
   "id": "f753ee6e",
   "metadata": {},
   "outputs": [],
   "source": [
    "pass"
   ]
  },
  {
   "cell_type": "markdown",
   "id": "856fb04e",
   "metadata": {},
   "source": [
    "# Task 4: Data Manipulation\n",
    "\n",
    "- Create a new column \"remaining income\", with value `salary * (80 - age)`\n",
    "- Do the above using two methods: (1) use a for loop with iterrows; for a hint, see Task 5. (2) use the DataFrame `apply` method. Make sure you understand both methods."
   ]
  },
  {
   "cell_type": "code",
   "execution_count": null,
   "id": "9315d867",
   "metadata": {},
   "outputs": [],
   "source": [
    "pass"
   ]
  },
  {
   "cell_type": "markdown",
   "id": "04ca9f2c",
   "metadata": {},
   "source": [
    "# Task 5: \n",
    "\n",
    "Guess what the following code snippet does:"
   ]
  },
  {
   "cell_type": "code",
   "execution_count": null,
   "id": "7bbf734e",
   "metadata": {},
   "outputs": [],
   "source": [
    "for i, row in benchmark.iterrows():\n",
    "    benchmark.at[i, \"model-prediction\"] = classifier.classify_case(row[\"dir\"])\n",
    "\n",
    "print((benchmark[\"human-labeled-outcome\"] == benchmark[\"model-prediction\"]).sum() / len(benchmark))"
   ]
  },
  {
   "cell_type": "markdown",
   "id": "76965831",
   "metadata": {},
   "source": [
    "# Task 6: Democracy\n",
    "\n",
    "Load the `electoral-democracy-index.csv` file, which contains data on V-Dem's country/year-level democracy index.\n",
    "\n",
    "- Locate the data for United States. Find the average democracy score for united states in the 18th, 19th, 20th, and 21th centuries. Compare them.\n",
    "- In what year did the US achieve its highest democracy score? The lowest?"
   ]
  },
  {
   "cell_type": "code",
   "execution_count": null,
   "id": "8847be5c",
   "metadata": {},
   "outputs": [],
   "source": [
    "pass"
   ]
  },
  {
   "cell_type": "markdown",
   "id": "27bf2446",
   "metadata": {},
   "source": [
    "# Task 6: Democratic Backsliding?\n",
    "\n",
    "Some claim that a global democratic decline has been happening over the past few decades.\n",
    "We evaluate this claim using V-Dem's democracy index.\n",
    "\n",
    "Follow the steps below:\n",
    "- Come up with a measure of democratic backsliding in the past 20 years. This should be a function that takes in the past 20 years of democracy scores for a given country and outputs a single score representing the extent of democratic backsliding for that country. Think of what you might want in such a measure.\n",
    "- Aggregate the DataFrame that contains democracy score for each country/year to a DataFrame that contains a \"backsliding\" index for each country. That is, for each country you are aggregating the democracy indexes over the years to one single backsliding index. After this step, you should have a DataFrame that looks something like:\n",
    "\n",
    "    ```\n",
    "    Country 1 | backsliding index 1\n",
    "    Country 2 | backsliding index 2\n",
    "    Country 3 | backsliding index 3\n",
    "    ...\n",
    "    ```\n",
    "\n",
    "    - Hint 1: use the `DataFrame.aggregate` method with a `func` you defined above.\n",
    "    - Hint 2: it is often useful to test the functions on a smaller DataFrame when debugging.\n",
    "\n",
    "- Now find the countries with the most amount of democratic backsliding. (Hint: use the `DataFrame.sorrt_values` function.)"
   ]
  },
  {
   "cell_type": "code",
   "execution_count": null,
   "id": "9050e85c",
   "metadata": {},
   "outputs": [],
   "source": [
    "pass"
   ]
  },
  {
   "cell_type": "markdown",
   "id": "de725ead",
   "metadata": {},
   "source": [
    "# Task 7: Democratic Backsliding (continued)?\n",
    "\n",
    "Democratic backsliding is obviously occurring in *some* countries. But do we have evidence for a *global* democratic backsliding?\n",
    "You may test this by looking at the average of the \"backsliding\" score (which you created in the previous task), but this gives each country the same weight. One way to get a global \"backsliding\" score is to weight each country by its population.\n",
    "To make life easier, we will use only the indexes for each continent in the dataset.\n",
    "\n",
    "Follow the steps below:\n",
    "- Load `population.csv`, which contains data on countries and continents.\n",
    "- Note that some continents are named differently in the population dataset and in the democracy index dataset. Rename the relevant column of one of these datasets so that the two datasets have the same names.\n",
    "\n",
    "    Hint: Use a dictionary to store a mapping from the old names to the new (matching) names (e.g. from \"Africa (UN)\" to \"Africa\"), and use `.apply` on the column storing names to change old names to the corresponding new names.\n",
    "- Merge the two datasets so you have the population and democracy index data in the same DataFrame.\n",
    "    \n",
    "    Hint: Google `DataFrame.join` and `DataFrame.merge`.\n",
    "\n",
    "- Calculate a population-weighted \"backsliding\" score for the past 20 years. Is there a global democratic backslide?"
   ]
  },
  {
   "cell_type": "code",
   "execution_count": null,
   "id": "09e6a0b7",
   "metadata": {},
   "outputs": [],
   "source": [
    "pass"
   ]
  }
 ],
 "metadata": {},
 "nbformat": 4,
 "nbformat_minor": 5
}
