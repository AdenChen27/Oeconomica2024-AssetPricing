{
 "cells": [
  {
   "cell_type": "markdown",
   "id": "cd913bc3",
   "metadata": {},
   "source": [
    "# Tuples, Lists, and Dictionaries\n",
    "\n",
    "Note: These notebooks are designed to quickly introduce to *programming*, not *computer science*.\n",
    "\n",
    "- You do not need to know exactly how everything works, but make sure you have a rough idea of what each line of code means.\n",
    "- Your final goal is to know how to code (with aid of the Internet).\n",
    "- You may skip over all explanation, but do run all the code.\n",
    "- The explanations are terse. If you have question, Google. If you don't, find some question to Google.\n",
    "\n",
    "Knowing how to Google and ChatGPT is vary useful, but to be a Good Googler, you'll need to know the correct vocabulary, which is displayed in **bold** in this notebook.\n",
    "\n",
    "After completing this notebook, you should understand three **data types**:\n",
    "- **Tuples**: Ordered, immutable collections of values.\n",
    "- **Lists**: Ordered, mutable collections that can be modified.\n",
    "- **Dictionaries**: Collections of key-value pairs, where each key is unique."
   ]
  },
  {
   "cell_type": "markdown",
   "id": "0704764c",
   "metadata": {},
   "source": [
    "## Tuples\n",
    "\n",
    "A **tuple** is an ordered collection of values that is **immutable**, meaning that once created, you cannot change the values inside a tuple. Tuples are commonly used when you need to store a fixed set of values, like coordinates or months in a year."
   ]
  },
  {
   "cell_type": "code",
   "execution_count": null,
   "id": "8c0fd781",
   "metadata": {},
   "outputs": [],
   "source": [
    "# Create a tuple for product prices\n",
    "product_prices = (19.99, 35.50, 12.75)\n",
    "print(product_prices)"
   ]
  },
  {
   "cell_type": "markdown",
   "id": "f62294d3",
   "metadata": {},
   "source": [
    "Here, `product_prices` is a **tuple** containing three values. You cannot change any of these values after the tuple is created.\n",
    "\n",
    "### Accessing Tuple Elements\n",
    "\n",
    "You can access individual elements of a tuple using their **index** (accessing by index is sometimes called **indexing**), starting from 0. \n",
    "You can also count backwards by using negative integers, starting from -1."
   ]
  },
  {
   "cell_type": "code",
   "execution_count": null,
   "id": "3ad98c00",
   "metadata": {},
   "outputs": [],
   "source": [
    "# Accessing the second element of the tuple\n",
    "second_price = product_prices[1]\n",
    "print(f\"The price of the second product is: ${second_price}\")\n",
    "last_price = product_prices[-1]\n",
    "print(f\"The price of the last product is: ${last_price}\")"
   ]
  },
  {
   "cell_type": "markdown",
   "id": "fa00b106",
   "metadata": {},
   "source": [
    "You can **nest** tuples inside tuples."
   ]
  },
  {
   "cell_type": "code",
   "execution_count": null,
   "id": "752fdfd2",
   "metadata": {},
   "outputs": [],
   "source": [
    "# Nested tuple (a tuple within a tuple)\n",
    "nested_tuple = (1, 2, (3, 4), 5)\n",
    "print(nested_tuple[2])"
   ]
  },
  {
   "cell_type": "markdown",
   "id": "ee2e7d7b",
   "metadata": {},
   "source": [
    "## Lists\n",
    "\n",
    "A **list** is similar to a tuple, but unlike a tuple, lists are **mutable**. This means you can add, remove, or change elements of a list. Lists are often used when you need to store an ordered collection of items that may change over time.\n",
    "\n",
    "### Example:\n",
    "\n",
    "Let's create a list to store the number of students enrolled in different economics courses."
   ]
  },
  {
   "cell_type": "code",
   "execution_count": null,
   "id": "b33f4fb6",
   "metadata": {},
   "outputs": [],
   "source": [
    "students_in_courses = [30, 45, 25, 50]\n",
    "print(students_in_courses)"
   ]
  },
  {
   "cell_type": "markdown",
   "id": "14f4b52a",
   "metadata": {},
   "source": [
    "### Modifying Lists\n",
    "\n",
    "You can change elements in a list using their index or add new elements using methods like `append()`.\n",
    "\n",
    "### Example:\n",
    "\n",
    "Let's update the number of students in the second course and add a new course."
   ]
  },
  {
   "cell_type": "code",
   "execution_count": null,
   "id": "f0ca57ea",
   "metadata": {},
   "outputs": [],
   "source": [
    "# Change the number of students in the second course\n",
    "students_in_courses[1] = 40\n",
    "print(f\"Updated student list: {students_in_courses}\")\n",
    "\n",
    "# Add a new course with 60 students\n",
    "students_in_courses.append(60)\n",
    "print(f\"Updated student list after adding a new course: {students_in_courses}\")"
   ]
  },
  {
   "cell_type": "markdown",
   "id": "b6ea859b",
   "metadata": {},
   "source": [
    "Recall that you may not alter the elements of a tuple.\n",
    "Try it:"
   ]
  },
  {
   "cell_type": "code",
   "execution_count": null,
   "id": "6450286b",
   "metadata": {},
   "outputs": [],
   "source": [
    "product_prices = (19.99, 35.50, 12.75)\n",
    "product_prices[1] = 35"
   ]
  },
  {
   "cell_type": "markdown",
   "id": "3a8573ee",
   "metadata": {},
   "source": [
    "Here are some more operations you can do."
   ]
  },
  {
   "cell_type": "code",
   "execution_count": null,
   "id": "fc12d710",
   "metadata": {},
   "outputs": [],
   "source": [
    "my_list = [1, 2, 3, 4, 5]\n",
    "print(my_list)  # Prints the entire list: [1, 2, 3, 4, 5]\n",
    "\n",
    "# Length of a list\n",
    "print(len(my_list))\n",
    "\n",
    "# Accessing elements of a list by index (indexing starts from 0)\n",
    "print(my_list[0])  # Prints 1 (the first element of the list)\n",
    "print(my_list[3])  # Prints 4 (the fourth element of the list)\n",
    "\n",
    "# Modifying a list element\n",
    "my_list[2] = 10  # Changes the third element (index 2) from 3 to 10\n",
    "print(my_list)\n",
    "\n",
    "# Adding an element to the list\n",
    "my_list.append(6)  # Adds 6 to the end of the list\n",
    "print(my_list)\n",
    "\n",
    "# Inserting an element at a specific index\n",
    "my_list.insert(1, 20)  # Inserts 20 at index 1\n",
    "print(my_list)\n",
    "\n",
    "# Removing an element by value\n",
    "my_list.remove(10)\n",
    "print(my_list)\n",
    "\n",
    "# Removing an element by index\n",
    "my_list.pop(3)\n",
    "print(my_list)\n",
    "\n",
    "# Nested list (a list within a list)\n",
    "nested_list = [1, 2, [3, 4], 5]\n",
    "print(nested_list[2])"
   ]
  },
  {
   "cell_type": "markdown",
   "id": "8c13ab8b",
   "metadata": {},
   "source": [
    "Recall conditionals.\n",
    "Another often used boolean expression is `A in B`, which checks whether `A` is an element of the list/tuple `B`."
   ]
  },
  {
   "cell_type": "code",
   "execution_count": null,
   "id": "8937c297",
   "metadata": {},
   "outputs": [],
   "source": [
    "name = \"John\"\n",
    "if name in [\"John\", \"Rick\"]:\n",
    "    print(\"Your name is either John or Rick.\")\n",
    "if name in (\"John\", \"Rick\"): # You can also use a tuple\n",
    "    print(\"Your name is either John or Rick.\")"
   ]
  },
  {
   "cell_type": "markdown",
   "id": "e55c3828",
   "metadata": {},
   "source": [
    "## Dictionaries\n",
    "\n",
    "A **dictionary** is a collection of **key-value pairs**. Each key in a dictionary must be unique, and each key is associated with a value. Dictionaries are useful for storing data where you need to look up a value based on a key, like looking up a student's name based on their ID.\n",
    "\n",
    "### Example:\n",
    "\n",
    "Let's create a dictionary to store the number of students in various courses, with the course names as keys."
   ]
  },
  {
   "cell_type": "code",
   "execution_count": null,
   "id": "05aceba6",
   "metadata": {},
   "outputs": [],
   "source": [
    "# Create a dictionary to store course student counts\n",
    "course_student_counts = {\n",
    "    \"Economics 101\": 30,\n",
    "    \"Microeconomics\": 45,\n",
    "    \"Macroeconomics\": 25\n",
    "}\n",
    "print(course_student_counts)"
   ]
  },
  {
   "cell_type": "markdown",
   "id": "9ff5952a",
   "metadata": {},
   "source": [
    "Here, `course_student_counts` is a **dictionary** where each key is a course name, and the value is the number of students enrolled in that course.\n",
    "\n",
    "### Accessing Dictionary Elements\n",
    "\n",
    "You can access the value associated with a key by using square brackets `[]` with the key."
   ]
  },
  {
   "cell_type": "code",
   "execution_count": null,
   "id": "95dcf1cf",
   "metadata": {},
   "outputs": [],
   "source": [
    "students_in_microeconomics = course_student_counts[\"Microeconomics\"]\n",
    "print(f\"Students in Microeconomics: {students_in_microeconomics}\")"
   ]
  },
  {
   "cell_type": "markdown",
   "id": "43cada41",
   "metadata": {},
   "source": [
    "You can modify the value associated with a key or add new key-value pairs."
   ]
  },
  {
   "cell_type": "code",
   "execution_count": null,
   "id": "e9f33c9a",
   "metadata": {},
   "outputs": [],
   "source": [
    "# Update the number of students in Macroeconomics\n",
    "course_student_counts[\"Macroeconomics\"] = 30\n",
    "print(f\"Updated course list: {course_student_counts}\")\n",
    "\n",
    "# Add a new course\n",
    "course_student_counts[\"Statistics 101\"] = 50\n",
    "print(f\"Updated course list after adding Statistics 101: {course_student_counts}\")"
   ]
  },
  {
   "cell_type": "markdown",
   "id": "c50ca3ca",
   "metadata": {},
   "source": [
    "Note that list, tuple, and dictionary are all data types.\n",
    "You may use `list` and `tuple` to convert lists to tuples and vice versa."
   ]
  },
  {
   "cell_type": "code",
   "execution_count": null,
   "id": "c2907965",
   "metadata": {},
   "outputs": [],
   "source": [
    "a = (1, 2, 3)\n",
    "print(a, type(a))\n",
    "a = list(a)\n",
    "print(a, type(a))\n",
    "a = tuple(a)\n",
    "print(a, type(a))"
   ]
  },
  {
   "cell_type": "markdown",
   "id": "a60fd604",
   "metadata": {},
   "source": [
    "Always remember what data type you are dealing with.\n",
    "Recall that you can use `type` to check the data type."
   ]
  },
  {
   "cell_type": "code",
   "execution_count": null,
   "id": "32d4496c",
   "metadata": {},
   "outputs": [],
   "source": [
    "print(type((1, 2)))\n",
    "print(type([1, 2]))\n",
    "print(type({1: 2}))"
   ]
  },
  {
   "cell_type": "markdown",
   "id": "b848fd7a",
   "metadata": {},
   "source": [
    "# Exercise 1\n",
    "\n",
    "- Go google the `range` function.\n",
    "Note that `range` returns a generator (you don't have to care too much about what that means for now), but you may convert a generator into a list using `list()`.\n",
    "- Create a list using the `range` and `list` functions that contains all multiples of 7 from 1 to 7777.\n",
    "- Calculate the sum of these numbers and print it out. (Hint 1: you do not need `for` or `while`, which you will learn in the next notebook. Hint 2: Google. You just need one function that you've never seen.)"
   ]
  },
  {
   "cell_type": "code",
   "execution_count": null,
   "id": "92644041",
   "metadata": {},
   "outputs": [],
   "source": [
    "pass"
   ]
  },
  {
   "cell_type": "markdown",
   "id": "0eb544be",
   "metadata": {},
   "source": [
    "# Exercise 2\n",
    "\n",
    "- Find a way to obtain a *list* containing all keys of a given dictionary. (For the following dictionary, you should obtain [\"a\", \"b\", \"c\", \"d\"]).\n",
    "- Find a way to obtain a *tuple* containing all values of a given dictionary. (For the following dictionary, you should obtain [1, 2, 3, 4]).\n",
    "- Use Google."
   ]
  },
  {
   "cell_type": "code",
   "execution_count": null,
   "id": "9c7920bd",
   "metadata": {},
   "outputs": [],
   "source": [
    "d = {\"a\": 1, \"b\": 2, \"c\": 3, \"d\": 4}"
   ]
  },
  {
   "cell_type": "markdown",
   "id": "bd232ba6",
   "metadata": {},
   "source": [
    "# Exercise 3\n",
    "\n",
    "- Go learn about the data type **set**."
   ]
  },
  {
   "cell_type": "code",
   "execution_count": null,
   "id": "1e989cb7",
   "metadata": {},
   "outputs": [],
   "source": [
    "pass"
   ]
  }
 ],
 "metadata": {},
 "nbformat": 4,
 "nbformat_minor": 5
}
