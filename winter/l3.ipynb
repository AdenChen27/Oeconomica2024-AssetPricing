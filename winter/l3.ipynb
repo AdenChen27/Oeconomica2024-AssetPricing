{
 "cells": [
  {
   "cell_type": "markdown",
   "id": "69bb199a",
   "metadata": {},
   "source": [
    "\n",
    "# Tuples, Lists, and Dictionaries\n",
    "\n",
    "Note: These notebooks are designed to quickly introduce to *programming*, not *computer science*.\n",
    "\n",
    "- You do not need to know exactly how everything works, but make sure you have a rough idea of what each line of code means.\n",
    "- Your final goal is to know how to code (with aid of the Internet).\n",
    "- You may skip over all explanation, but do run all the code.\n",
    "- The explanations are terse. If you have question, Google. If you don't, find some question to Google.\n",
    "\n",
    "Knowing how to Google and ChatGPT is vary useful, but to be a Good Googler, you'll need to know the correct vocabulary, which is displayed in **bold** in this notebook.\n",
    "\n",
    "After completing this notebook, you should understand three **data types**:\n",
    "- **Tuples**: Ordered, immutable collections of values.\n",
    "- **Lists**: Ordered, mutable collections that can be modified.\n",
    "- **Dictionaries**: Collections of key-value pairs, where each key is unique.\n"
   ]
  },
  {
   "cell_type": "markdown",
   "id": "415175d8",
   "metadata": {},
   "source": [
    "\n",
    "## Tuples\n",
    "\n",
    "A **tuple** is an ordered collection of values that is **immutable**, meaning that once created, you cannot change the values inside a tuple. Tuples are commonly used when you need to store a fixed set of values, like coordinates or months in a year.\n"
   ]
  },
  {
   "cell_type": "code",
   "execution_count": null,
   "id": "c6bf767c",
   "metadata": {},
   "outputs": [],
   "source": [
    "# Create a tuple for product prices\n",
    "product_prices = (19.99, 35.50, 12.75)\n",
    "print(product_prices)"
   ]
  },
  {
   "cell_type": "markdown",
   "id": "51886335",
   "metadata": {},
   "source": [
    "\n",
    "Here, `product_prices` is a **tuple** containing three values. You cannot change any of these values after the tuple is created.\n",
    "\n",
    "### Accessing Tuple Elements\n",
    "\n",
    "You can access individual elements of a tuple using their **index** (accessing by index is sometimes called **indexing**), starting from 0. \n",
    "You can also count backwards by using negative integers, starting from -1.\n"
   ]
  },
  {
   "cell_type": "code",
   "execution_count": null,
   "id": "c6eeaa9e",
   "metadata": {},
   "outputs": [],
   "source": [
    "# Accessing the second element of the tuple\n",
    "second_price = product_prices[1]\n",
    "print(f\"The price of the second product is: ${second_price}\")\n",
    "last_price = product_prices[-1]\n",
    "print(f\"The price of the last product is: ${last_price}\")"
   ]
  },
  {
   "cell_type": "markdown",
   "id": "af27b31c",
   "metadata": {},
   "source": [
    "\n",
    "You can **nest** tuples inside tuples.\n"
   ]
  },
  {
   "cell_type": "code",
   "execution_count": null,
   "id": "2bcaed49",
   "metadata": {},
   "outputs": [],
   "source": [
    "# Nested tuple (a tuple within a tuple)\n",
    "nested_tuple = (1, 2, (3, 4), 5)\n",
    "print(nested_tuple[2])"
   ]
  },
  {
   "cell_type": "markdown",
   "id": "fbb8b7bb",
   "metadata": {},
   "source": [
    "\n",
    "## Lists\n",
    "\n",
    "A **list** is similar to a tuple, but unlike a tuple, lists are **mutable**. This means you can add, remove, or change elements of a list. Lists are often used when you need to store an ordered collection of items that may change over time.\n",
    "\n",
    "### Example:\n",
    "\n",
    "Let's create a list to store the number of students enrolled in different economics courses.\n"
   ]
  },
  {
   "cell_type": "code",
   "execution_count": null,
   "id": "98ff8cfe",
   "metadata": {},
   "outputs": [],
   "source": [
    "students_in_courses = [30, 45, 25, 50]\n",
    "print(students_in_courses)"
   ]
  },
  {
   "cell_type": "markdown",
   "id": "5b2a0c50",
   "metadata": {},
   "source": [
    "\n",
    "### Modifying Lists\n",
    "\n",
    "You can change elements in a list using their index or add new elements using methods like `append()`.\n",
    "\n",
    "### Example:\n",
    "\n",
    "Let's update the number of students in the second course and add a new course.\n"
   ]
  },
  {
   "cell_type": "code",
   "execution_count": null,
   "id": "2611a9b6",
   "metadata": {},
   "outputs": [],
   "source": [
    "# Change the number of students in the second course\n",
    "students_in_courses[1] = 40\n",
    "print(f\"Updated student list: {students_in_courses}\")\n",
    "\n",
    "# Add a new course with 60 students\n",
    "students_in_courses.append(60)\n",
    "print(f\"Updated student list after adding a new course: {students_in_courses}\")"
   ]
  },
  {
   "cell_type": "markdown",
   "id": "b8673f88",
   "metadata": {},
   "source": [
    "\n",
    "Recall that you may not alter the elements of a tuple.\n",
    "Try it:\n"
   ]
  },
  {
   "cell_type": "code",
   "execution_count": null,
   "id": "d6126253",
   "metadata": {},
   "outputs": [],
   "source": [
    "product_prices = (19.99, 35.50, 12.75)\n",
    "product_prices[1] = 35"
   ]
  },
  {
   "cell_type": "markdown",
   "id": "80d9ef3f",
   "metadata": {},
   "source": [
    "\n",
    "Here are some more operations you can do.\n"
   ]
  },
  {
   "cell_type": "code",
   "execution_count": null,
   "id": "4e155295",
   "metadata": {},
   "outputs": [],
   "source": [
    "my_list = [1, 2, 3, 4, 5]\n",
    "print(my_list)  # Prints the entire list: [1, 2, 3, 4, 5]\n",
    "\n",
    "# Length of a list\n",
    "print(len(my_list))\n",
    "\n",
    "# Accessing elements of a list by index (indexing starts from 0)\n",
    "print(my_list[0])  # Prints 1 (the first element of the list)\n",
    "print(my_list[3])  # Prints 4 (the fourth element of the list)\n",
    "\n",
    "# Modifying a list element\n",
    "my_list[2] = 10  # Changes the third element (index 2) from 3 to 10\n",
    "print(my_list)\n",
    "\n",
    "# Adding an element to the list\n",
    "my_list.append(6)  # Adds 6 to the end of the list\n",
    "print(my_list)\n",
    "\n",
    "# Inserting an element at a specific index\n",
    "my_list.insert(1, 20)  # Inserts 20 at index 1\n",
    "print(my_list)\n",
    "\n",
    "# Removing an element by value\n",
    "my_list.remove(10)\n",
    "print(my_list)\n",
    "\n",
    "# Removing an element by index\n",
    "my_list.pop(3)\n",
    "print(my_list)\n",
    "\n",
    "# Nested list (a list within a list)\n",
    "nested_list = [1, 2, [3, 4], 5]\n",
    "print(nested_list[2])"
   ]
  },
  {
   "cell_type": "markdown",
   "id": "95b18e09",
   "metadata": {},
   "source": [
    "\n",
    "Recall conditionals.\n",
    "Another often used boolean expression is `A in B`, which checks whether `A` is an element of the list/tuple `B`.\n"
   ]
  },
  {
   "cell_type": "code",
   "execution_count": null,
   "id": "2752622c",
   "metadata": {},
   "outputs": [],
   "source": [
    "name = \"John\"\n",
    "if name in [\"John\", \"Rick\"]:\n",
    "    print(\"Your name is either John or Rick.\")\n",
    "if name in (\"John\", \"Rick\"): # You can also use a tuple\n",
    "    print(\"Your name is either John or Rick.\")"
   ]
  },
  {
   "cell_type": "markdown",
   "id": "bdd11ce0",
   "metadata": {},
   "source": [
    "\n",
    "## Dictionaries\n",
    "\n",
    "A **dictionary** is a collection of **key-value pairs**. Each key in a dictionary must be unique, and each key is associated with a value. Dictionaries are useful for storing data where you need to look up a value based on a key, like looking up a student's name based on their ID.\n",
    "\n",
    "### Example:\n",
    "\n",
    "Let's create a dictionary to store the number of students in various courses, with the course names as keys.\n"
   ]
  },
  {
   "cell_type": "code",
   "execution_count": null,
   "id": "ef53c183",
   "metadata": {},
   "outputs": [],
   "source": [
    "# Create a dictionary to store course student counts\n",
    "course_student_counts = {\n",
    "    \"Economics 101\": 30,\n",
    "    \"Microeconomics\": 45,\n",
    "    \"Macroeconomics\": 25\n",
    "}\n",
    "print(course_student_counts)"
   ]
  },
  {
   "cell_type": "markdown",
   "id": "af31e516",
   "metadata": {},
   "source": [
    "\n",
    "Here, `course_student_counts` is a **dictionary** where each key is a course name, and the value is the number of students enrolled in that course.\n",
    "\n",
    "### Accessing Dictionary Elements\n",
    "\n",
    "You can access the value associated with a key by using square brackets `[]` with the key.\n"
   ]
  },
  {
   "cell_type": "code",
   "execution_count": null,
   "id": "1b396d09",
   "metadata": {},
   "outputs": [],
   "source": [
    "students_in_microeconomics = course_student_counts[\"Microeconomics\"]\n",
    "print(f\"Students in Microeconomics: {students_in_microeconomics}\")"
   ]
  },
  {
   "cell_type": "markdown",
   "id": "e38ef2a7",
   "metadata": {},
   "source": [
    "\n",
    "You can modify the value associated with a key or add new key-value pairs.\n"
   ]
  },
  {
   "cell_type": "code",
   "execution_count": null,
   "id": "0c0c5535",
   "metadata": {},
   "outputs": [],
   "source": [
    "# Update the number of students in Macroeconomics\n",
    "course_student_counts[\"Macroeconomics\"] = 30\n",
    "print(f\"Updated course list: {course_student_counts}\")\n",
    "\n",
    "# Add a new course\n",
    "course_student_counts[\"Statistics 101\"] = 50\n",
    "print(f\"Updated course list after adding Statistics 101: {course_student_counts}\")"
   ]
  },
  {
   "cell_type": "markdown",
   "id": "039f7d7e",
   "metadata": {},
   "source": [
    "\n",
    "Note that list, tuple, and dictionary are all data types.\n",
    "You may use `list` and `tuple` to convert lists to tuples and vice versa.\n"
   ]
  },
  {
   "cell_type": "code",
   "execution_count": null,
   "id": "a993a770",
   "metadata": {},
   "outputs": [],
   "source": [
    "a = (1, 2, 3)\n",
    "print(a, type(a))\n",
    "a = list(a)\n",
    "print(a, type(a))\n",
    "a = tuple(a)\n",
    "print(a, type(a))"
   ]
  },
  {
   "cell_type": "markdown",
   "id": "e229f093",
   "metadata": {},
   "source": [
    "\n",
    "Always remember what data type you are dealing with.\n",
    "Recall that you can use `type` to check the data type.\n"
   ]
  },
  {
   "cell_type": "code",
   "execution_count": null,
   "id": "465a9501",
   "metadata": {},
   "outputs": [],
   "source": [
    "print(type((1, 2)))\n",
    "print(type([1, 2]))\n",
    "print(type({1: 2}))"
   ]
  },
  {
   "cell_type": "markdown",
   "id": "bd5c001d",
   "metadata": {},
   "source": [
    "\n",
    "# Exercise 1\n",
    "\n",
    "- Go google the `range` function.\n",
    "Note that `range` returns a generator (you don't have to care too much about what that means for now), but you may convert a generator into a list using `list()`.\n",
    "- Create a list using the `range` and `list` functions that contains all multiples of 7 from 1 to 7777.\n",
    "- Calculate the sum of these numbers and print it out. (Hint 1: you do not need `for` or `while`, which you will learn in the next notebook. Hint 2: Google. You just need one function that you've never seen.)\n"
   ]
  },
  {
   "cell_type": "code",
   "execution_count": 13,
   "id": "986a14cc",
   "metadata": {},
   "outputs": [
    {
     "data": {
      "text/plain": [
       "4324012"
      ]
     },
     "execution_count": 13,
     "metadata": {},
     "output_type": "execute_result"
    }
   ],
   "source": [
    "sum(range(0, 7778, 7))"
   ]
  },
  {
   "cell_type": "markdown",
   "id": "d80ce83d",
   "metadata": {},
   "source": [
    "\n",
    "# Exercise 2\n",
    "\n",
    "- Find a way to obtain a *list* containing all keys of a given dictionary. (For the following dictionary, you should obtain [\"a\", \"b\", \"c\", \"d\"]).\n",
    "- Find a way to obtain a *tuple* containing all values of a given dictionary. (For the following dictionary, you should obtain [1, 2, 3, 4]).\n",
    "- Use Google.\n"
   ]
  },
  {
   "cell_type": "code",
   "execution_count": 19,
   "id": "c6d890b7",
   "metadata": {},
   "outputs": [
    {
     "data": {
      "text/plain": [
       "(1, 2, 3, 4)"
      ]
     },
     "execution_count": 19,
     "metadata": {},
     "output_type": "execute_result"
    }
   ],
   "source": [
    "d = {\"a\": 1, \"b\": 2, \"c\": 3, \"d\": 4}\n",
    "list(d.keys())\n",
    "tuple(d.values())"
   ]
  },
  {
   "cell_type": "markdown",
   "id": "d8033b69",
   "metadata": {},
   "source": [
    "\n",
    "# Exercise 3\n",
    "\n",
    "- Go learn about the data type **set**.\n"
   ]
  },
  {
   "cell_type": "code",
   "execution_count": null,
   "id": "a2711e7f",
   "metadata": {},
   "outputs": [],
   "source": []
  },
  {
   "cell_type": "markdown",
   "id": "33e26d43",
   "metadata": {},
   "source": [
    "\n",
    "# Exercise 4\n",
    "\n",
    "Check (using Python) if the years 2024 and 2025 are in the following list.\n"
   ]
  },
  {
   "cell_type": "code",
   "execution_count": 20,
   "id": "4faad706",
   "metadata": {},
   "outputs": [
    {
     "data": {
      "text/plain": [
       "False"
      ]
     },
     "execution_count": 20,
     "metadata": {},
     "output_type": "execute_result"
    }
   ],
   "source": [
    "years = [1998, 2017, 2029, 2010, 2049, 2014, 2001, 2038, 1990, 2020, 2000, 1999, 1993, 2015, 2047, 2032, 2042, 2043, 2041, 2036, 2004, 2002, 2037, 2025, 2012, 2007, 2046, 2039, 2040, 2022, 2048, 2008, 2005, 2034, 2035, 2011, 1991, 2045, 2028, 2033, 2026, 1997, 2013, 2019, 2016, 2044, 2030, 1992, 2006, 2021, 1994, 1996, 2031, 2027, 2009]\n",
    "2024 in years"
   ]
  },
  {
   "cell_type": "code",
   "execution_count": 21,
   "id": "e13bf15d",
   "metadata": {},
   "outputs": [
    {
     "data": {
      "text/plain": [
       "True"
      ]
     },
     "execution_count": 21,
     "metadata": {},
     "output_type": "execute_result"
    }
   ],
   "source": [
    "2025 in years"
   ]
  },
  {
   "cell_type": "markdown",
   "id": "0cad1118",
   "metadata": {},
   "source": [
    "\n",
    "# Exercise 5\n",
    "\n",
    "You can think of a string as a sequence (list??) of characters.\n",
    "\n",
    "Given a string of DNA sequence, check if it contains the substring \"ATCGGC\".\n"
   ]
  },
  {
   "cell_type": "code",
   "execution_count": 22,
   "id": "602b5db0",
   "metadata": {},
   "outputs": [],
   "source": [
    "string = 'GCGGTCATCTTTGCACCTAAGACAAACACCCGGACACCCATATCTGTCAATCTACGCGTCTGATCTGGTGCATTCCCCATCACAATTTATCCGAATCCTTTGACTTCCTGTCTGTTCCCGGCCGTGTGTAGGTTGACGGCCGACGTAACCCATGGTCGGAACAATTGACGTCCTGACATCCCTGCCGCGATCAACGAGGTGCCCAACACATGGGGTCTATCCTTGCTCGAAATACGAATACGCTGAAGGATATCGTTTATGACCCCTGCGCTAAGCCGGAAAGTCGGTTTGTACCCCACGTCAGGTCGTAAGGAAAACCCGCGGGAGACGAAACAAAGCACTCCACGCCGGTAAGTCTTCGCTGCAATGAAATTCGGACAGTCGCGTACCGTTTCGCGATTCCACCATCCATTCCTCCTAAGATGTCGGCCACTATCATTGCAATGAGGGGGGGCGCCGATACGCCACTCGCGCCACTTTAACCATTAGCGCCTGAATTCGGATTTCACCGTGGTCACTGGAACGAGGCGAATCGGCGCGTAGAGTAGGCCCTATTTTTATCAGCTGAAATGCTGAATACCTCCAACTAAGAATTCATTTATAGCCCCGTTGCTTGCGTGTAGGCAAAATCGAACTCGGCCAAAGCTACCGTGAAGGAGCTGATACCGAATCTATGGATATGGTTCACGTTACGACATCATCCCCGTAATCCGAAAGAGTCGTCGTCAACATGTACCTCAATCGGTTACGCTTATTTGGAGTCCCGTCGTACCTCGACGTCCTATTCACGGGTAGATGCCACGTGGCGTCCGTTTTTGGCACCCCGAGTCATTGCATTTTTCGTTTCCACACAGATTATTAGGCAAACTTTCGCGTAAGCGATTCCCTGTGCCGCACGGTAAAGCCGATGTTTGCAGCAAGCGCCTGTCGTGGAGAGCTTAAATGCAATGAGTAAGTTACAGAGAGGAGTGAGCTGTGCAACACACTGAGACGGTAACTA'"
   ]
  },
  {
   "cell_type": "code",
   "execution_count": 24,
   "id": "ca5f13c8",
   "metadata": {},
   "outputs": [
    {
     "name": "stdout",
     "output_type": "stream",
     "text": [
      "substring found\n"
     ]
    }
   ],
   "source": [
    "if \"ATCGGC\" in string:\n",
    "    print(\"substring found\")"
   ]
  }
 ],
 "metadata": {
  "kernelspec": {
   "display_name": "Python 3 (ipykernel)",
   "language": "python",
   "name": "python3"
  },
  "language_info": {
   "codemirror_mode": {
    "name": "ipython",
    "version": 3
   },
   "file_extension": ".py",
   "mimetype": "text/x-python",
   "name": "python",
   "nbconvert_exporter": "python",
   "pygments_lexer": "ipython3",
   "version": "3.11.4"
  }
 },
 "nbformat": 4,
 "nbformat_minor": 5
}
