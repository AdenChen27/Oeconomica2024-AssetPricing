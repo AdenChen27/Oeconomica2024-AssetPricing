{
 "cells": [
  {
   "cell_type": "markdown",
   "id": "b633f6c3",
   "metadata": {},
   "source": [
    "\n",
    "# Functions\n",
    "\n",
    "You've seen plenty of examples of functions.\n",
    "It's time to formally introduce them.\n"
   ]
  },
  {
   "cell_type": "markdown",
   "id": "3f67ae8c",
   "metadata": {},
   "source": [
    "\n",
    "In Python, you can call a function by using its name followed by parentheses `()`. If the function requires arguments, you pass the values inside the parentheses.\n"
   ]
  },
  {
   "cell_type": "code",
   "execution_count": null,
   "id": "0e01ea3d",
   "metadata": {},
   "outputs": [],
   "source": [
    "# Calling the print function\n",
    "print(\"Hello!\")"
   ]
  },
  {
   "cell_type": "markdown",
   "id": "846d1ed6",
   "metadata": {},
   "source": [
    "\n",
    "In this example, we called the **`print()`** function to display a message. The **argument** passed to the `print()` function is `\"Hello!\"`. An **argument** is the value or information that you pass into a function when calling it.\n",
    "\n",
    "## Arguments\n",
    "\n",
    "Arguments are the values you send to a function when calling it. These values are used by the function to perform its task. Functions can accept multiple arguments, and the number and type of arguments the function accepts will depend on how the function is defined.\n",
    "\n",
    "### Example:\n",
    "\n",
    "Let’s use the built-in `len()` function, which returns the length of an object (like a list or a string). The argument we pass to `len()` will be the object whose length we want to know.\n"
   ]
  },
  {
   "cell_type": "code",
   "execution_count": null,
   "id": "86cae315",
   "metadata": {},
   "outputs": [],
   "source": [
    "# Using the len() function to find the length of a string\n",
    "course_name = \"Economics 101\"\n",
    "course_length = len(course_name)\n",
    "print(f\"The course name '{course_name}' has {course_length} characters.\")"
   ]
  },
  {
   "cell_type": "markdown",
   "id": "01ead6f8",
   "metadata": {},
   "source": [
    "\n",
    "Here, we called the **`len()`** function and passed the string `\"Economics 101\"` as an argument. The function then returned the length of the string, which is 15, and we printed the result.\n",
    "\n",
    "## Defining Your Own Function\n",
    "\n",
    "You can define your own functions using the `def` keyword. A function can take one or more arguments and return a value.\n",
    "\n",
    "### Example:\n",
    "\n",
    "Let’s define a simple function that calculates the total cost based on the price and quantity of a product. The function will take two arguments: **price** and **quantity**.\n"
   ]
  },
  {
   "cell_type": "code",
   "execution_count": null,
   "id": "7d969e6a",
   "metadata": {},
   "outputs": [],
   "source": [
    "# Defining a custom function\n",
    "def calculate_total_cost(price, quantity):\n",
    "    total_cost = price * quantity\n",
    "    return total_cost\n",
    "\n",
    "# Calling the custom function with arguments\n",
    "price_per_item = 20\n",
    "quantity_purchased = 3\n",
    "total_cost = calculate_total_cost(price_per_item, quantity_purchased)\n",
    "\n",
    "print(f\"The total cost for {quantity_purchased} items at ${price_per_item} each is: ${total_cost}\")"
   ]
  },
  {
   "cell_type": "markdown",
   "id": "374faa97",
   "metadata": {},
   "source": [
    "\n",
    "It is good practice to wrap often-used pieces of code in functions!\n"
   ]
  },
  {
   "cell_type": "markdown",
   "id": "ae0f9423",
   "metadata": {},
   "source": [
    "\n",
    "# Exercise 1:\n",
    "\n",
    "Define a function that takes in two numbers as input and outputs their product.\n"
   ]
  },
  {
   "cell_type": "code",
   "execution_count": null,
   "id": "acf40ff3",
   "metadata": {},
   "outputs": [],
   "source": []
  },
  {
   "cell_type": "markdown",
   "id": "f9c3ff3e",
   "metadata": {},
   "source": [
    "\n",
    "# Exercise 2\n",
    "\n",
    "Google \"python **typing**\" and \"mypy\" and read about it. (Find out the difference between `mypy` and python's default type checking system. Why is `mypy` better?) Add type hints using typing for the function you defined above.\n",
    "*Always* use typing when possible. It will save you loads of time debugging.\n"
   ]
  },
  {
   "cell_type": "markdown",
   "id": "1651ac28",
   "metadata": {},
   "source": [
    "\n",
    "# Exercise 3\n",
    "\n",
    "Define a function that takes in two lists as input, interpret them as vectors, and outputs their distance.\n"
   ]
  },
  {
   "cell_type": "code",
   "execution_count": null,
   "id": "8774c718",
   "metadata": {},
   "outputs": [],
   "source": []
  },
  {
   "cell_type": "markdown",
   "id": "2ea0a40b",
   "metadata": {},
   "source": [
    "\n",
    "# Exercise 4\n",
    "\n",
    "Using your function above, define a new function that takes in a list `vec` of length 3 as input and outputs the sum of\n",
    "1. the distance between `vec` and the vector (1, 4, 6)\n",
    "2. the distance between `vec` and the vector (2, 8, 3)\n",
    "3. the distance between `vec` and the vector (7, 1, 9)\n"
   ]
  },
  {
   "cell_type": "code",
   "execution_count": null,
   "id": "11fd1d09",
   "metadata": {},
   "outputs": [],
   "source": []
  },
  {
   "cell_type": "markdown",
   "id": "83a995c6",
   "metadata": {},
   "source": [
    "\n",
    "# Exercise 5\n",
    "\n",
    "Find an approximate minimum of the function you defined above and the input that achieves that (approximate) minimum. (This is know as the Fermat point.)\n",
    "\n",
    "You may proceed in the following steps:\n",
    "1. Narrow the search space down. An educated guess is that if the minimum is attained at (x, y, z), then we know -100 <= x <= 100. You can narrow it down further.\n",
    "2. We calculate the value of the function on a subset of points in our search space. The finer the set of points, the more accurate our solution will be.\n",
    "\n",
    "You can start with something like this:\n",
    "```python\n",
    "for x in range(x_min, x_max, epsilon):\n",
    "    for y in range(y_min, y_max, epsilon):\n",
    "        for z in range(z_min, z_max, epsilon):\n",
    "            calculate the function value at (x, y, z)\n",
    "```\n",
    "What does `epsilon` do?\n"
   ]
  },
  {
   "cell_type": "code",
   "execution_count": null,
   "id": "51a6e17d",
   "metadata": {},
   "outputs": [],
   "source": []
  },
  {
   "cell_type": "markdown",
   "id": "d1ce2144",
   "metadata": {},
   "source": [
    "\n",
    "Such optimization problems are extreme common in economics.\n",
    "Oftentimes, analytic solutions can be hard to even impossible to find, and your only resort will be to find approximate solutions computationally.\n"
   ]
  }
 ],
 "metadata": {},
 "nbformat": 4,
 "nbformat_minor": 5
}
