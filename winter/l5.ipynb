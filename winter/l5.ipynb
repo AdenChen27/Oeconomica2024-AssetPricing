{
 "cells": [
  {
   "cell_type": "markdown",
   "id": "c911aa4f",
   "metadata": {},
   "source": [
    "# Functions\n",
    "\n",
    "Note: These notebooks are designed to quickly introduce to *programming*, not *computer science*.\n",
    "\n",
    "- You do not need to know exactly how everything works, but make sure you have a rough idea of what each line of code means.\n",
    "- Your final goal is to know how to code (with aid of the Internet).\n",
    "- You may skip over all explanation, but do run all the code.\n",
    "- The explanations are terse. If you have question, Google. If you don't, find some question to Google.\n",
    "\n",
    "Knowing how to Google and ChatGPT is vary useful, but to be a Good Googler, you'll need to know the correct vocabulary, which is displayed in **bold** in this notebook.\n",
    "\n",
    "You've seen plenty of examples of functions.\n",
    "It's time to formally introduce them."
   ]
  },
  {
   "cell_type": "markdown",
   "id": "06aaa88e",
   "metadata": {},
   "source": [
    "In Python, you can call a function by using its name followed by parentheses `()`. If the function requires arguments, you pass the values inside the parentheses."
   ]
  },
  {
   "cell_type": "code",
   "execution_count": null,
   "id": "cd8d10ff",
   "metadata": {},
   "outputs": [],
   "source": [
    "# Calling the print function\n",
    "print(\"Hello!\")"
   ]
  },
  {
   "cell_type": "markdown",
   "id": "ce692e54",
   "metadata": {},
   "source": [
    "In this example, we called the **`print()`** function to display a message. The **argument** passed to the `print()` function is `\"Hello!\"`. An **argument** is the value or information that you pass into a function when calling it.\n",
    "\n",
    "## Arguments\n",
    "\n",
    "Arguments are the values you send to a function when calling it. These values are used by the function to perform its task. Functions can accept multiple arguments, and the number and type of arguments the function accepts will depend on how the function is defined.\n",
    "\n",
    "### Example:\n",
    "\n",
    "Let’s use the built-in `len()` function, which returns the length of an object (like a list or a string). The argument we pass to `len()` will be the object whose length we want to know."
   ]
  },
  {
   "cell_type": "code",
   "execution_count": null,
   "id": "7ddd406e",
   "metadata": {},
   "outputs": [],
   "source": [
    "# Using the len() function to find the length of a string\n",
    "course_name = \"Economics 101\"\n",
    "course_length = len(course_name)\n",
    "print(f\"The course name '{course_name}' has {course_length} characters.\")"
   ]
  },
  {
   "cell_type": "markdown",
   "id": "02b60872",
   "metadata": {},
   "source": [
    "Here, we called the **`len()`** function and passed the string `\"Economics 101\"` as an argument. The function then returned the length of the string, which is 15, and we printed the result.\n",
    "\n",
    "## Defining Your Own Function\n",
    "\n",
    "You can define your own functions using the `def` keyword. A function can take one or more arguments and return a value.\n",
    "\n",
    "### Example:\n",
    "\n",
    "Let’s define a simple function that calculates the total cost based on the price and quantity of a product. The function will take two arguments: **price** and **quantity**."
   ]
  },
  {
   "cell_type": "code",
   "execution_count": null,
   "id": "6ec82c88",
   "metadata": {},
   "outputs": [],
   "source": [
    "# Defining a custom function\n",
    "def calculate_total_cost(price, quantity):\n",
    "    total_cost = price * quantity\n",
    "    return total_cost\n",
    "\n",
    "# Calling the custom function with arguments\n",
    "price_per_item = 20\n",
    "quantity_purchased = 3\n",
    "total_cost = calculate_total_cost(price_per_item, quantity_purchased)\n",
    "\n",
    "print(f\"The total cost for {quantity_purchased} items at ${price_per_item} each is: ${total_cost}\")"
   ]
  },
  {
   "cell_type": "markdown",
   "id": "0001de07",
   "metadata": {},
   "source": [
    "It is good practice to wrap often-used pieces of code in functions!"
   ]
  },
  {
   "cell_type": "markdown",
   "id": "1dc57ae9",
   "metadata": {},
   "source": [
    "# Exercise 1:\n",
    "\n",
    "Define a function that takes in two numbers as input and outputs their product."
   ]
  },
  {
   "cell_type": "code",
   "execution_count": null,
   "id": "b99a584d",
   "metadata": {},
   "outputs": [],
   "source": [
    "pass"
   ]
  },
  {
   "cell_type": "markdown",
   "id": "f28ebb6a",
   "metadata": {},
   "source": [
    "# Exercise 2\n",
    "\n",
    "Google \"python **typing**\" and read about it. Add type hints using typing for the function you defined above.\n",
    "*Always* use typing when possible. It will save you loads of time debugging."
   ]
  }
 ],
 "metadata": {},
 "nbformat": 4,
 "nbformat_minor": 5
}
