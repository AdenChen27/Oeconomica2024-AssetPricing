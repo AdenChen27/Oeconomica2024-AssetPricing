{
 "cells": [
  {
   "cell_type": "markdown",
   "id": "0f98d204",
   "metadata": {},
   "source": [
    "# Scraping the Web\n",
    "\n",
    "In this notebook, we attempt to scrap UChicago's Course Catalog."
   ]
  },
  {
   "cell_type": "markdown",
   "id": "68c59888",
   "metadata": {},
   "source": [
    "### From URL to HTML\n",
    "\n",
    "Go to [UChicago's Economics Catalog](http://collegecatalog.uchicago.edu/thecollege/economics/) and **inspect** the page (Google how to do it)."
   ]
  },
  {
   "cell_type": "code",
   "execution_count": null,
   "id": "0a591693",
   "metadata": {},
   "outputs": [],
   "source": [
    "from urllib.request import urlopen\n",
    "url = r\"http://collegecatalog.uchicago.edu/thecollege/economics/\"\n",
    "page = urlopen(url)\n",
    "\n",
    "html = page.read().decode(\"utf-8\")\n",
    "html"
   ]
  },
  {
   "cell_type": "markdown",
   "id": "91db803b",
   "metadata": {},
   "source": [
    "### What are we finding?\n",
    "\n",
    "Suppose we want to scrap the names of all courses.\n",
    "Inspect again the webpage.\n",
    "In what HTML tags are the names located?"
   ]
  },
  {
   "cell_type": "code",
   "execution_count": null,
   "id": "3171f6f1",
   "metadata": {},
   "outputs": [],
   "source": [
    "from bs4 import BeautifulSoup\n",
    "soup = BeautifulSoup(html, \"html.parser\")\n",
    "soup.find_all(\"p\",  {\"class\": \"courseblocktitle\"})"
   ]
  },
  {
   "cell_type": "markdown",
   "id": "13790eda",
   "metadata": {},
   "source": [
    "###"
   ]
  },
  {
   "cell_type": "code",
   "execution_count": null,
   "id": "60364ae5",
   "metadata": {},
   "outputs": [],
   "source": [
    "course_titles = []\n",
    "for a in soup.find_all(\"p\",  {\"class\": \"courseblocktitle\"}):\n",
    "    course_titles.appen(a.find(\"strong\").text)"
   ]
  },
  {
   "cell_type": "markdown",
   "id": "40def192",
   "metadata": {},
   "source": [
    "# Task 1: Cleaning\n",
    "\n",
    "`course_titles` includes not just the name of the courses, but also the course numbers and units worth.\n",
    "Clean the data so we have just a list of course names left.\n",
    "\n",
    "Hint: course number, course name, and units are all separated by a single period."
   ]
  },
  {
   "cell_type": "code",
   "execution_count": null,
   "id": "d9321e40",
   "metadata": {},
   "outputs": [],
   "source": [
    "pass"
   ]
  },
  {
   "cell_type": "markdown",
   "id": "6bf3b741",
   "metadata": {},
   "source": [
    "# Task 2: DOI\n",
    "\n",
    "Many scientific papers have corresponding DOIs that can be used to uniquely identify them.\n",
    "Crossref provides a free API that takes in a doi and output the metadata of the associated paper.\n",
    "\n",
    "Check out for example:\n",
    "[`https://api.crossref.org/works/10.3386/w4509`](https://api.crossref.org/works/10.3386/w4509)\n",
    "\n",
    "Write a script that takes in a DOI and outputs the authors of the associated paper."
   ]
  },
  {
   "cell_type": "code",
   "execution_count": null,
   "id": "eca329e4",
   "metadata": {},
   "outputs": [],
   "source": [
    "doi = r\"10.3386/w4509\""
   ]
  }
 ],
 "metadata": {},
 "nbformat": 4,
 "nbformat_minor": 5
}
