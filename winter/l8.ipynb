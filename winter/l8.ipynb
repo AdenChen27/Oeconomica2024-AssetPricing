{
 "cells": [
  {
   "cell_type": "markdown",
   "id": "500af560",
   "metadata": {},
   "source": [
    "\n",
    "# Regression Analysis\n"
   ]
  },
  {
   "cell_type": "code",
   "execution_count": null,
   "id": "b969123a",
   "metadata": {},
   "outputs": [],
   "source": [
    "import numpy as np\n",
    "import pandas as pd"
   ]
  },
  {
   "cell_type": "markdown",
   "id": "102f5d7e",
   "metadata": {},
   "source": [
    "\n",
    "# Shape\n",
    "Given a `numpy` array `A`, what does `A.reshape((a, b))` do?\n",
    "\n",
    "What does `A.reshape((-1, 1))` do? In what way is `A.reshape((-1, 1))` different from `A`?\n",
    "\n",
    "Hint: one is a matrix, the other a vector.\n"
   ]
  },
  {
   "cell_type": "code",
   "execution_count": null,
   "id": "2eee987a",
   "metadata": {},
   "outputs": [],
   "source": [
    "A = np.array([1, 5, 10, 14, 31, 22, 27, 72])"
   ]
  },
  {
   "cell_type": "markdown",
   "id": "1b18ac94",
   "metadata": {},
   "source": [
    "\n",
    "# `Smoke`\n",
    "\n",
    "Explore the `smoke` data set from Wooldridge.\n",
    "Read [this](http://fmwww.bc.edu/ec-p/data/wooldridge/smoke.des).\n",
    "Produce a scatter plot of smoking behavior and income.\n"
   ]
  },
  {
   "cell_type": "code",
   "execution_count": null,
   "id": "e8b90645",
   "metadata": {},
   "outputs": [],
   "source": [
    "df = pd.read_csv(\"smoke.csv\")"
   ]
  },
  {
   "cell_type": "markdown",
   "id": "f1698efe",
   "metadata": {},
   "source": [
    "\n",
    "# Simple Regression Analysis\n",
    "\n",
    "The following code runs a simple regression for `cigs` on `lincome`.\n",
    "(What does `\"\\t\"` mean?)\n"
   ]
  },
  {
   "cell_type": "code",
   "execution_count": null,
   "id": "e7e8151b",
   "metadata": {},
   "outputs": [],
   "source": [
    "from sklearn.linear_model import LinearRegression\n",
    "\n",
    "model = LinearRegression()\n",
    "x = df[\"lincome\"].to_numpy().reshape((-1, 1))\n",
    "y = df[\"cigs\"].to_numpy()\n",
    "model.fit(x, y)\n",
    "\n",
    "r_sq = model.score(x, y)\n",
    "\n",
    "print(f\"beta_0:\\t{model.intercept_}\")\n",
    "print(f\"beta_1:\\t{model.coef_}\")\n",
    "print(f\"R^2:\\t{r_sq}\")"
   ]
  },
  {
   "cell_type": "markdown",
   "id": "9de2d880",
   "metadata": {},
   "source": [
    "\n",
    "You've obtained $\\beta_0$ and $\\beta_1$ above.\n",
    "Calculate the predicted value $\\hat{y}_i = \\beta_0 + \\beta_1 x_i$ for each of the entry in `df`.\n"
   ]
  },
  {
   "cell_type": "code",
   "execution_count": null,
   "id": "4f939643",
   "metadata": {},
   "outputs": [],
   "source": [
    "pass"
   ]
  },
  {
   "cell_type": "markdown",
   "id": "d8522c84",
   "metadata": {},
   "source": [
    "\n",
    "Plot the following in the same graph:\n",
    "\n",
    "- The actual values of smoking vs income. (You have plotted this before. Just reproduce the graph).\n",
    "- The predicted values of smoking vs income for each entry in `df`.\n",
    "- The population regression function $E(y | x) = \\beta_0 + \\beta_1 x$. This should be a straight line.\n"
   ]
  },
  {
   "cell_type": "code",
   "execution_count": null,
   "id": "ddd6c28a",
   "metadata": {},
   "outputs": [],
   "source": [
    "pass"
   ]
  },
  {
   "cell_type": "markdown",
   "id": "89ebcd5b",
   "metadata": {},
   "source": [
    "\n",
    "### Covariance\n",
    "\n",
    "\n",
    "The residual $\\hat{u}$ is the variation in $y_i$ not captured in our model, given by $\\hat{u}_i = y_i - \\hat{y}_i$.\n",
    "\n",
    "- Use to function to calculate, for each entry in `df`, the corresponding residual.\n",
    "- Calculate the sample covariance between the predicted value $\\hat{y}_i = \\beta_0 + \\beta_1 x_i$ and the error $\\hat{u}_i = y_i - \\hat{y}_i$. Note its magnitude.\n",
    "\n",
    "Hint: use [`np.cov`](https://numpy.org/doc/stable/reference/generated/numpy.cov.html). (This function returns a matrix. How does the matrix relate to the covariance?)\n"
   ]
  },
  {
   "cell_type": "code",
   "execution_count": null,
   "id": "c8d4b0c6",
   "metadata": {},
   "outputs": [],
   "source": [
    "pass"
   ]
  },
  {
   "cell_type": "markdown",
   "id": "21d2443b",
   "metadata": {},
   "source": [
    "\n",
    "You should obtain 0 (up to any small rounding error). In fact, we always have for any sample that $Cov(\\hat{y}_i, \\hat{u}_i) = 0$.\n",
    "The fitted values and the residuals are uncorrelated.\n"
   ]
  }
 ],
 "metadata": {},
 "nbformat": 4,
 "nbformat_minor": 5
}
